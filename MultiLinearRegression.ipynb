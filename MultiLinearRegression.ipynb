{
 "cells": [
  {
   "cell_type": "markdown",
   "id": "00013f02-0542-4574-baaf-6ea453b3bab8",
   "metadata": {},
   "source": [
    "Assumptions in Multilinear Regression\n",
    "1. Linearity: The ralationship between the predictiors and the response is linear\n",
    "\n",
    "2. Independence: Observations are independent of each other.\n",
    "\n",
    "3. Homoscadasticity: The residuals(Y - Y_hat)) exhibit constant variance at all levels of the predictor.\n",
    "\n",
    "4. Normal Distribution of Errors: the residuals of the model are normally distributed.\n",
    "\n",
    "5. No multicollinearity: The independent variables should not be too highly correlated eith each other."
   ]
  },
  {
   "cell_type": "code",
   "execution_count": 2,
   "id": "334c2261-64a1-4b83-a597-e05c565379c4",
   "metadata": {},
   "outputs": [],
   "source": [
    "import pandas as pd\n",
    "import matplotlib.pyplot as plt\n",
    "import seaborn as sns\n",
    "import statsmodels.formula.api as smf\n",
    "from statsmodels.graphics.regressionplots import influence_plot\n",
    "import numpy as np"
   ]
  },
  {
   "cell_type": "code",
   "execution_count": 3,
   "id": "513f55b6-87a0-4bbb-8505-48c952b9b2b8",
   "metadata": {},
   "outputs": [
    {
     "data": {
      "text/html": [
       "<div>\n",
       "<style scoped>\n",
       "    .dataframe tbody tr th:only-of-type {\n",
       "        vertical-align: middle;\n",
       "    }\n",
       "\n",
       "    .dataframe tbody tr th {\n",
       "        vertical-align: top;\n",
       "    }\n",
       "\n",
       "    .dataframe thead th {\n",
       "        text-align: right;\n",
       "    }\n",
       "</style>\n",
       "<table border=\"1\" class=\"dataframe\">\n",
       "  <thead>\n",
       "    <tr style=\"text-align: right;\">\n",
       "      <th></th>\n",
       "      <th>HP</th>\n",
       "      <th>MPG</th>\n",
       "      <th>VOL</th>\n",
       "      <th>SP</th>\n",
       "      <th>WT</th>\n",
       "    </tr>\n",
       "  </thead>\n",
       "  <tbody>\n",
       "    <tr>\n",
       "      <th>0</th>\n",
       "      <td>49</td>\n",
       "      <td>53.700681</td>\n",
       "      <td>89</td>\n",
       "      <td>104.185353</td>\n",
       "      <td>28.762059</td>\n",
       "    </tr>\n",
       "    <tr>\n",
       "      <th>1</th>\n",
       "      <td>55</td>\n",
       "      <td>50.013401</td>\n",
       "      <td>92</td>\n",
       "      <td>105.461264</td>\n",
       "      <td>30.466833</td>\n",
       "    </tr>\n",
       "    <tr>\n",
       "      <th>2</th>\n",
       "      <td>55</td>\n",
       "      <td>50.013401</td>\n",
       "      <td>92</td>\n",
       "      <td>105.461264</td>\n",
       "      <td>30.193597</td>\n",
       "    </tr>\n",
       "    <tr>\n",
       "      <th>3</th>\n",
       "      <td>70</td>\n",
       "      <td>45.696322</td>\n",
       "      <td>92</td>\n",
       "      <td>113.461264</td>\n",
       "      <td>30.632114</td>\n",
       "    </tr>\n",
       "    <tr>\n",
       "      <th>4</th>\n",
       "      <td>53</td>\n",
       "      <td>50.504232</td>\n",
       "      <td>92</td>\n",
       "      <td>104.461264</td>\n",
       "      <td>29.889149</td>\n",
       "    </tr>\n",
       "  </tbody>\n",
       "</table>\n",
       "</div>"
      ],
      "text/plain": [
       "   HP        MPG  VOL          SP         WT\n",
       "0  49  53.700681   89  104.185353  28.762059\n",
       "1  55  50.013401   92  105.461264  30.466833\n",
       "2  55  50.013401   92  105.461264  30.193597\n",
       "3  70  45.696322   92  113.461264  30.632114\n",
       "4  53  50.504232   92  104.461264  29.889149"
      ]
     },
     "execution_count": 3,
     "metadata": {},
     "output_type": "execute_result"
    }
   ],
   "source": [
    "# Read the data from csv file\n",
    "cars = pd.read_csv(\"Cars.csv\")\n",
    "cars.head()"
   ]
  },
  {
   "cell_type": "code",
   "execution_count": 4,
   "id": "dfe02f70-9a91-4fd9-a59d-129151224080",
   "metadata": {},
   "outputs": [
    {
     "data": {
      "text/html": [
       "<div>\n",
       "<style scoped>\n",
       "    .dataframe tbody tr th:only-of-type {\n",
       "        vertical-align: middle;\n",
       "    }\n",
       "\n",
       "    .dataframe tbody tr th {\n",
       "        vertical-align: top;\n",
       "    }\n",
       "\n",
       "    .dataframe thead th {\n",
       "        text-align: right;\n",
       "    }\n",
       "</style>\n",
       "<table border=\"1\" class=\"dataframe\">\n",
       "  <thead>\n",
       "    <tr style=\"text-align: right;\">\n",
       "      <th></th>\n",
       "      <th>HP</th>\n",
       "      <th>VOL</th>\n",
       "      <th>SP</th>\n",
       "      <th>WT</th>\n",
       "      <th>MPG</th>\n",
       "    </tr>\n",
       "  </thead>\n",
       "  <tbody>\n",
       "    <tr>\n",
       "      <th>0</th>\n",
       "      <td>49</td>\n",
       "      <td>89</td>\n",
       "      <td>104.185353</td>\n",
       "      <td>28.762059</td>\n",
       "      <td>53.700681</td>\n",
       "    </tr>\n",
       "    <tr>\n",
       "      <th>1</th>\n",
       "      <td>55</td>\n",
       "      <td>92</td>\n",
       "      <td>105.461264</td>\n",
       "      <td>30.466833</td>\n",
       "      <td>50.013401</td>\n",
       "    </tr>\n",
       "    <tr>\n",
       "      <th>2</th>\n",
       "      <td>55</td>\n",
       "      <td>92</td>\n",
       "      <td>105.461264</td>\n",
       "      <td>30.193597</td>\n",
       "      <td>50.013401</td>\n",
       "    </tr>\n",
       "    <tr>\n",
       "      <th>3</th>\n",
       "      <td>70</td>\n",
       "      <td>92</td>\n",
       "      <td>113.461264</td>\n",
       "      <td>30.632114</td>\n",
       "      <td>45.696322</td>\n",
       "    </tr>\n",
       "    <tr>\n",
       "      <th>4</th>\n",
       "      <td>53</td>\n",
       "      <td>92</td>\n",
       "      <td>104.461264</td>\n",
       "      <td>29.889149</td>\n",
       "      <td>50.504232</td>\n",
       "    </tr>\n",
       "  </tbody>\n",
       "</table>\n",
       "</div>"
      ],
      "text/plain": [
       "   HP  VOL          SP         WT        MPG\n",
       "0  49   89  104.185353  28.762059  53.700681\n",
       "1  55   92  105.461264  30.466833  50.013401\n",
       "2  55   92  105.461264  30.193597  50.013401\n",
       "3  70   92  113.461264  30.632114  45.696322\n",
       "4  53   92  104.461264  29.889149  50.504232"
      ]
     },
     "execution_count": 4,
     "metadata": {},
     "output_type": "execute_result"
    }
   ],
   "source": [
    "# Rearrange the columns\n",
    "cars=pd.DataFrame(cars,columns=[\"HP\",\"VOL\",\"SP\",\"WT\",\"MPG\"])\n",
    "cars.head()"
   ]
  },
  {
   "cell_type": "markdown",
   "id": "3bd1662e-c415-4e19-a827-082e1af00f2f",
   "metadata": {},
   "source": [
    "## Description of columns\n",
    " - MPG: Milege of the car (Mile per Gallon)(This is Y-colums to be predicted)\n",
    " - HP:Horse Power of the car(X1 column)\n",
    " - VOL: Volume of the car (size)(X2 Column)\n",
    " - SP: Top speed of the car (Miles per Hour)(X3 column)\n",
    " - WT : Weight of the car(Pounds)(X4 column)"
   ]
  },
  {
   "cell_type": "markdown",
   "id": "32e23ff0-63f6-4fee-b81f-f59e2ced0c69",
   "metadata": {},
   "source": [
    "### EDA"
   ]
  },
  {
   "cell_type": "code",
   "execution_count": 7,
   "id": "70c97a6f-5a65-4c33-b34c-71be0e4e04dd",
   "metadata": {},
   "outputs": [
    {
     "name": "stdout",
     "output_type": "stream",
     "text": [
      "<class 'pandas.core.frame.DataFrame'>\n",
      "RangeIndex: 81 entries, 0 to 80\n",
      "Data columns (total 5 columns):\n",
      " #   Column  Non-Null Count  Dtype  \n",
      "---  ------  --------------  -----  \n",
      " 0   HP      81 non-null     int64  \n",
      " 1   VOL     81 non-null     int64  \n",
      " 2   SP      81 non-null     float64\n",
      " 3   WT      81 non-null     float64\n",
      " 4   MPG     81 non-null     float64\n",
      "dtypes: float64(3), int64(2)\n",
      "memory usage: 3.3 KB\n"
     ]
    }
   ],
   "source": [
    "cars.info()"
   ]
  },
  {
   "cell_type": "code",
   "execution_count": 8,
   "id": "b4336984-7326-4d99-b292-92a8e1f2dbb4",
   "metadata": {},
   "outputs": [
    {
     "data": {
      "text/plain": [
       "HP     0\n",
       "VOL    0\n",
       "SP     0\n",
       "WT     0\n",
       "MPG    0\n",
       "dtype: int64"
      ]
     },
     "execution_count": 8,
     "metadata": {},
     "output_type": "execute_result"
    }
   ],
   "source": [
    "cars.isnull().sum()"
   ]
  },
  {
   "cell_type": "markdown",
   "id": "dedcf3b8-02d9-49ce-b1ba-ecaaaae2e15c",
   "metadata": {},
   "source": [
    "### observations\n",
    "- There are no missing values \n",
    "- There are 81 observations (81 diffrent cars data)\n",
    "- The data types of the columns are also relevent and valid"
   ]
  },
  {
   "cell_type": "code",
   "execution_count": 10,
   "id": "f54dfa56-a674-4092-9902-3577abfc15a7",
   "metadata": {},
   "outputs": [
    {
     "data": {
      "text/plain": [
       "<function matplotlib.pyplot.show(close=None, block=None)>"
      ]
     },
     "execution_count": 10,
     "metadata": {},
     "output_type": "execute_result"
    },
    {
     "data": {
      "image/png": "[encoded data removed]",
      "text/plain": [
       "<Figure size 640x480 with 2 Axes>"
      ]
     },
     "metadata": {},
     "output_type": "display_data"
    }
   ],
   "source": [
    "# Create a figure with two subplots (one above the other)\n",
    "fig,(ax_box,ax_hist)=plt.subplots(2,sharex=True,gridspec_kw={\"height_ratios\": (.15,.85)})\n",
    "# Creating a boxplot\n",
    "sns.boxplot(data=cars,x='HP',ax=ax_box,orient='h')\n",
    "ax_box.set(xlabel='')\n",
    "# Creating a histogram in the same x-axis\n",
    "sns.histplot(data=cars,x='HP',ax=ax_hist,bins=30,kde=True,stat=\"density\")\n",
    "ax_hist.set(ylabel=\"Density\")\n",
    "# Adjust layout\n",
    "plt.tight_layout\n",
    "plt.show"
   ]
  },
  {
   "cell_type": "code",
   "execution_count": 11,
   "id": "ced25c76-0ec2-4b9b-8ef0-08257a1bdd08",
   "metadata": {},
   "outputs": [
    {
     "data": {
      "text/plain": [
       "<function matplotlib.pyplot.show(close=None, block=None)>"
      ]
     },
     "execution_count": 11,
     "metadata": {},
     "output_type": "execute_result"
    },
    {
     "data": {
      "image/png": "[encoded data removed]",
      "text/plain": [
       "<Figure size 640x480 with 2 Axes>"
      ]
     },
     "metadata": {},
     "output_type": "display_data"
    }
   ],
   "source": [
    "# Create a figure with two subplots (one above the other)\n",
    "fig,(ax_box,ax_hist)=plt.subplots(2,sharex=True,gridspec_kw={\"height_ratios\": (.15,.85)})\n",
    "# Creating a boxplot\n",
    "sns.boxplot(data=cars,x='VOL',ax=ax_box,orient='h')\n",
    "ax_box.set(xlabel='')\n",
    "# Creating a histogram in the same x-axis\n",
    "sns.histplot(data=cars,x='VOL',ax=ax_hist,bins=30,kde=True,stat=\"density\")\n",
    "ax_hist.set(ylabel=\"Density\")\n",
    "# Adjust layout\n",
    "plt.tight_layout\n",
    "plt.show"
   ]
  },
  {
   "cell_type": "code",
   "execution_count": 12,
   "id": "ee6cb880-2752-4300-8592-984ebfe645d0",
   "metadata": {},
   "outputs": [
    {
     "data": {
      "text/plain": [
       "<function matplotlib.pyplot.show(close=None, block=None)>"
      ]
     },
     "execution_count": 12,
     "metadata": {},
     "output_type": "execute_result"
    },
    {
     "data": {
      "image/png": "[encoded data removed]",
      "text/plain": [
       "<Figure size 640x480 with 2 Axes>"
      ]
     },
     "metadata": {},
     "output_type": "display_data"
    }
   ],
   "source": [
    "# Create a figure with two subplots (one above the other)\n",
    "fig,(ax_box,ax_hist)=plt.subplots(2,sharex=True,gridspec_kw={\"height_ratios\": (.15,.85)})\n",
    "# Creating a boxplot\n",
    "sns.boxplot(data=cars,x='SP',ax=ax_box,orient='h')\n",
    "ax_box.set(xlabel='')\n",
    "# Creating a histogram in the same x-axis\n",
    "sns.histplot(data=cars,x='SP',ax=ax_hist,bins=30,kde=True,stat=\"density\")\n",
    "ax_hist.set(ylabel=\"Density\")\n",
    "# Adjust layout\n",
    "plt.tight_layout\n",
    "plt.show"
   ]
  },
  {
   "cell_type": "code",
   "execution_count": 13,
   "id": "1f113470-b9ed-4da0-8563-f56db36ec1f4",
   "metadata": {},
   "outputs": [
    {
     "data": {
      "text/plain": [
       "<function matplotlib.pyplot.show(close=None, block=None)>"
      ]
     },
     "execution_count": 13,
     "metadata": {},
     "output_type": "execute_result"
    },
    {
     "data": {
      "image/png": "[encoded data removed]",
      "text/plain": [
       "<Figure size 640x480 with 2 Axes>"
      ]
     },
     "metadata": {},
     "output_type": "display_data"
    }
   ],
   "source": [
    "# Create a figure with two subplots (one above the other)\n",
    "fig,(ax_box,ax_hist)=plt.subplots(2,sharex=True,gridspec_kw={\"height_ratios\": (.15,.85)})\n",
    "# Creating a boxplot\n",
    "sns.boxplot(data=cars,x='WT',ax=ax_box,orient='h')\n",
    "ax_box.set(xlabel='')\n",
    "# Creating a histogram in the same x-axis\n",
    "sns.histplot(data=cars,x='WT',ax=ax_hist,bins=30,kde=True,stat=\"density\")\n",
    "ax_hist.set(ylabel=\"Density\")\n",
    "# Adjust layout\n",
    "plt.tight_layout\n",
    "plt.show"
   ]
  },
  {
   "cell_type": "code",
   "execution_count": 14,
   "id": "edc4af1d-79fc-4e1c-ba8a-f2544bdb77fa",
   "metadata": {},
   "outputs": [
    {
     "data": {
      "text/plain": [
       "<function matplotlib.pyplot.show(close=None, block=None)>"
      ]
     },
     "execution_count": 14,
     "metadata": {},
     "output_type": "execute_result"
    },
    {
     "data": {
      "image/png": "[encoded data removed]",
      "text/plain": [
       "<Figure size 640x480 with 2 Axes>"
      ]
     },
     "metadata": {},
     "output_type": "display_data"
    }
   ],
   "source": [
    "# Create a figure with two subplots (one above the other)\n",
    "fig,(ax_box,ax_hist)=plt.subplots(2,sharex=True,gridspec_kw={\"height_ratios\": (.15,.85)})\n",
    "# Creating a boxplot\n",
    "sns.boxplot(data=cars,x='MPG',ax=ax_box,orient='h')\n",
    "ax_box.set(xlabel='')\n",
    "# Creating a histogram in the same x-axis\n",
    "sns.histplot(data=cars,x='MPG',ax=ax_hist,bins=30,kde=True,stat=\"density\")\n",
    "ax_hist.set(ylabel=\"Density\")\n",
    "# Adjust layout\n",
    "plt.tight_layout\n",
    "plt.show"
   ]
  },
  {
   "cell_type": "markdown",
   "id": "e5dbba4b-7357-4c81-bfd7-5468380f60eb",
   "metadata": {},
   "source": [
    "### Observations from boxplot and histograms\n",
    "- There are some extreme values (outliers) observed in towards the ridht tail of SP and HP.\n",
    "- In VOL and WT columns, a few outliers are observed in the both tails distributions.\n",
    "- THE extreme values of the cars data may have come from the specially desighed nature of cars.\n",
    "- As this is multi-dimensional data, the outliers with respect to spatial dimensions may have to be considered while building the regression mode.\n"
   ]
  },
  {
   "cell_type": "markdown",
   "id": "d069d01e-eb63-4f09-990e-0ef123b33e29",
   "metadata": {},
   "source": [
    "### Checking for duplicated rows"
   ]
  },
  {
   "cell_type": "code",
   "execution_count": 17,
   "id": "afaeea64-e587-4b2e-894c-4736600e8b73",
   "metadata": {},
   "outputs": [
    {
     "data": {
      "text/html": [
       "<div>\n",
       "<style scoped>\n",
       "    .dataframe tbody tr th:only-of-type {\n",
       "        vertical-align: middle;\n",
       "    }\n",
       "\n",
       "    .dataframe tbody tr th {\n",
       "        vertical-align: top;\n",
       "    }\n",
       "\n",
       "    .dataframe thead th {\n",
       "        text-align: right;\n",
       "    }\n",
       "</style>\n",
       "<table border=\"1\" class=\"dataframe\">\n",
       "  <thead>\n",
       "    <tr style=\"text-align: right;\">\n",
       "      <th></th>\n",
       "      <th>HP</th>\n",
       "      <th>VOL</th>\n",
       "      <th>SP</th>\n",
       "      <th>WT</th>\n",
       "      <th>MPG</th>\n",
       "    </tr>\n",
       "  </thead>\n",
       "  <tbody>\n",
       "  </tbody>\n",
       "</table>\n",
       "</div>"
      ],
      "text/plain": [
       "Empty DataFrame\n",
       "Columns: [HP, VOL, SP, WT, MPG]\n",
       "Index: []"
      ]
     },
     "execution_count": 17,
     "metadata": {},
     "output_type": "execute_result"
    }
   ],
   "source": [
    "cars[cars.duplicated()]"
   ]
  },
  {
   "cell_type": "markdown",
   "id": "ab71c8e7-a8e5-4916-8746-fea2a6e38e1e",
   "metadata": {},
   "source": [
    "### Pair plots and Correlation Coefficients"
   ]
  },
  {
   "cell_type": "code",
   "execution_count": 19,
   "id": "92ea5025-f08b-4009-8713-0807bd2bcfe3",
   "metadata": {},
   "outputs": [
    {
     "data": {
      "text/plain": [
       "<seaborn.axisgrid.PairGrid at 0x2abf84784a0>"
      ]
     },
     "execution_count": 19,
     "metadata": {},
     "output_type": "execute_result"
    },
    {
     "data": {
      "image/png": "[encoded data removed]",
      "text/plain": [
       "<Figure size 1250x1250 with 30 Axes>"
      ]
     },
     "metadata": {},
     "output_type": "display_data"
    }
   ],
   "source": [
    "# Pair plot\n",
    "sns.set_style(style='darkgrid')\n",
    "sns.pairplot(cars)"
   ]
  },
  {
   "cell_type": "code",
   "execution_count": 20,
   "id": "bbc20897-2b60-4521-a251-65b1bebf3bbc",
   "metadata": {},
   "outputs": [
    {
     "data": {
      "text/html": [
       "<div>\n",
       "<style scoped>\n",
       "    .dataframe tbody tr th:only-of-type {\n",
       "        vertical-align: middle;\n",
       "    }\n",
       "\n",
       "    .dataframe tbody tr th {\n",
       "        vertical-align: top;\n",
       "    }\n",
       "\n",
       "    .dataframe thead th {\n",
       "        text-align: right;\n",
       "    }\n",
       "</style>\n",
       "<table border=\"1\" class=\"dataframe\">\n",
       "  <thead>\n",
       "    <tr style=\"text-align: right;\">\n",
       "      <th></th>\n",
       "      <th>HP</th>\n",
       "      <th>VOL</th>\n",
       "      <th>SP</th>\n",
       "      <th>WT</th>\n",
       "      <th>MPG</th>\n",
       "    </tr>\n",
       "  </thead>\n",
       "  <tbody>\n",
       "    <tr>\n",
       "      <th>HP</th>\n",
       "      <td>1.000000</td>\n",
       "      <td>0.077459</td>\n",
       "      <td>0.973848</td>\n",
       "      <td>0.076513</td>\n",
       "      <td>-0.725038</td>\n",
       "    </tr>\n",
       "    <tr>\n",
       "      <th>VOL</th>\n",
       "      <td>0.077459</td>\n",
       "      <td>1.000000</td>\n",
       "      <td>0.102170</td>\n",
       "      <td>0.999203</td>\n",
       "      <td>-0.529057</td>\n",
       "    </tr>\n",
       "    <tr>\n",
       "      <th>SP</th>\n",
       "      <td>0.973848</td>\n",
       "      <td>0.102170</td>\n",
       "      <td>1.000000</td>\n",
       "      <td>0.102439</td>\n",
       "      <td>-0.687125</td>\n",
       "    </tr>\n",
       "    <tr>\n",
       "      <th>WT</th>\n",
       "      <td>0.076513</td>\n",
       "      <td>0.999203</td>\n",
       "      <td>0.102439</td>\n",
       "      <td>1.000000</td>\n",
       "      <td>-0.526759</td>\n",
       "    </tr>\n",
       "    <tr>\n",
       "      <th>MPG</th>\n",
       "      <td>-0.725038</td>\n",
       "      <td>-0.529057</td>\n",
       "      <td>-0.687125</td>\n",
       "      <td>-0.526759</td>\n",
       "      <td>1.000000</td>\n",
       "    </tr>\n",
       "  </tbody>\n",
       "</table>\n",
       "</div>"
      ],
      "text/plain": [
       "           HP       VOL        SP        WT       MPG\n",
       "HP   1.000000  0.077459  0.973848  0.076513 -0.725038\n",
       "VOL  0.077459  1.000000  0.102170  0.999203 -0.529057\n",
       "SP   0.973848  0.102170  1.000000  0.102439 -0.687125\n",
       "WT   0.076513  0.999203  0.102439  1.000000 -0.526759\n",
       "MPG -0.725038 -0.529057 -0.687125 -0.526759  1.000000"
      ]
     },
     "execution_count": 20,
     "metadata": {},
     "output_type": "execute_result"
    }
   ],
   "source": [
    "cars.corr()"
   ]
  },
  {
   "cell_type": "markdown",
   "id": "3b51fcc4-7e59-4ba9-92c2-f3050580928f",
   "metadata": {},
   "source": [
    "### Obbservation: \n",
    "- HP and SP have a strong positive correlation (0.973848),** indicating that as horsepower (HP) increases, speed (SP) also increases.  \n",
    "- MPG has a negative correlation with all other variables, especially HP (-0.725038) and SP (-0.687125),suggesting that higher horsepower and speed result in lower miles per gallon (MPG).\n",
    "- Among x columns (x1,x2,x3 and x4),some very high correlation strengths are observed between SP vs HP,VOL vs WT.\n",
    "- The high correlation among x columns is not desirable lead multicollinearity problem."
   ]
  },
  {
   "cell_type": "markdown",
   "id": "9fa79b67-d2bd-4438-a2ef-5850b96fc4e6",
   "metadata": {},
   "source": [
    "### Preparing a preliminary model considering all X columns"
   ]
  },
  {
   "cell_type": "code",
   "execution_count": 23,
   "id": "8889e53d-5f73-4723-a3ef-bfa2a0c861ee",
   "metadata": {},
   "outputs": [],
   "source": [
    "# Bulding model\n",
    "# import statsmodels.formula.api as smf\n",
    "model=smf.ols('MPG~WT+VOL+SP+HP',data=cars).fit()"
   ]
  },
  {
   "cell_type": "code",
   "execution_count": 24,
   "id": "41870622-8bdd-4a55-a2f0-a169539044bd",
   "metadata": {},
   "outputs": [
    {
     "data": {
      "text/html": [
       "<table class=\"simpletable\">\n",
       "<caption>OLS Regression Results</caption>\n",
       "<tr>\n",
       "  <th>Dep. Variable:</th>           <td>MPG</td>       <th>  R-squared:         </th> <td>   0.771</td>\n",
       "</tr>\n",
       "<tr>\n",
       "  <th>Model:</th>                   <td>OLS</td>       <th>  Adj. R-squared:    </th> <td>   0.758</td>\n",
       "</tr>\n",
       "<tr>\n",
       "  <th>Method:</th>             <td>Least Squares</td>  <th>  F-statistic:       </th> <td>   63.80</td>\n",
       "</tr>\n",
       "<tr>\n",
       "  <th>Date:</th>             <td>Sat, 08 Feb 2025</td> <th>  Prob (F-statistic):</th> <td>1.54e-23</td>\n",
       "</tr>\n",
       "<tr>\n",
       "  <th>Time:</th>                 <td>09:29:26</td>     <th>  Log-Likelihood:    </th> <td> -233.96</td>\n",
       "</tr>\n",
       "<tr>\n",
       "  <th>No. Observations:</th>      <td>    81</td>      <th>  AIC:               </th> <td>   477.9</td>\n",
       "</tr>\n",
       "<tr>\n",
       "  <th>Df Residuals:</th>          <td>    76</td>      <th>  BIC:               </th> <td>   489.9</td>\n",
       "</tr>\n",
       "<tr>\n",
       "  <th>Df Model:</th>              <td>     4</td>      <th>                     </th>     <td> </td>   \n",
       "</tr>\n",
       "<tr>\n",
       "  <th>Covariance Type:</th>      <td>nonrobust</td>    <th>                     </th>     <td> </td>   \n",
       "</tr>\n",
       "</table>\n",
       "<table class=\"simpletable\">\n",
       "<tr>\n",
       "      <td></td>         <th>coef</th>     <th>std err</th>      <th>t</th>      <th>P>|t|</th>  <th>[0.025</th>    <th>0.975]</th>  \n",
       "</tr>\n",
       "<tr>\n",
       "  <th>Intercept</th> <td>   30.6773</td> <td>   14.900</td> <td>    2.059</td> <td> 0.043</td> <td>    1.001</td> <td>   60.354</td>\n",
       "</tr>\n",
       "<tr>\n",
       "  <th>WT</th>        <td>    0.4006</td> <td>    1.693</td> <td>    0.237</td> <td> 0.814</td> <td>   -2.972</td> <td>    3.773</td>\n",
       "</tr>\n",
       "<tr>\n",
       "  <th>VOL</th>       <td>   -0.3361</td> <td>    0.569</td> <td>   -0.591</td> <td> 0.556</td> <td>   -1.469</td> <td>    0.796</td>\n",
       "</tr>\n",
       "<tr>\n",
       "  <th>SP</th>        <td>    0.3956</td> <td>    0.158</td> <td>    2.500</td> <td> 0.015</td> <td>    0.080</td> <td>    0.711</td>\n",
       "</tr>\n",
       "<tr>\n",
       "  <th>HP</th>        <td>   -0.2054</td> <td>    0.039</td> <td>   -5.239</td> <td> 0.000</td> <td>   -0.284</td> <td>   -0.127</td>\n",
       "</tr>\n",
       "</table>\n",
       "<table class=\"simpletable\">\n",
       "<tr>\n",
       "  <th>Omnibus:</th>       <td>10.780</td> <th>  Durbin-Watson:     </th> <td>   1.403</td>\n",
       "</tr>\n",
       "<tr>\n",
       "  <th>Prob(Omnibus):</th> <td> 0.005</td> <th>  Jarque-Bera (JB):  </th> <td>  11.722</td>\n",
       "</tr>\n",
       "<tr>\n",
       "  <th>Skew:</th>          <td> 0.707</td> <th>  Prob(JB):          </th> <td> 0.00285</td>\n",
       "</tr>\n",
       "<tr>\n",
       "  <th>Kurtosis:</th>      <td> 4.215</td> <th>  Cond. No.          </th> <td>6.09e+03</td>\n",
       "</tr>\n",
       "</table><br/><br/>Notes:<br/>[1] Standard Errors assume that the covariance matrix of the errors is correctly specified.<br/>[2] The condition number is large, 6.09e+03. This might indicate that there are<br/>strong multicollinearity or other numerical problems."
      ],
      "text/latex": [
       "\\begin{center}\n",
       "\\begin{tabular}{lclc}\n",
       "\\toprule\n",
       "\\textbf{Dep. Variable:}    &       MPG        & \\textbf{  R-squared:         } &     0.771   \\\\\n",
       "\\textbf{Model:}            &       OLS        & \\textbf{  Adj. R-squared:    } &     0.758   \\\\\n",
       "\\textbf{Method:}           &  Least Squares   & \\textbf{  F-statistic:       } &     63.80   \\\\\n",
       "\\textbf{Date:}             & Sat, 08 Feb 2025 & \\textbf{  Prob (F-statistic):} &  1.54e-23   \\\\\n",
       "\\textbf{Time:}             &     09:29:26     & \\textbf{  Log-Likelihood:    } &   -233.96   \\\\\n",
       "\\textbf{No. Observations:} &          81      & \\textbf{  AIC:               } &     477.9   \\\\\n",
       "\\textbf{Df Residuals:}     &          76      & \\textbf{  BIC:               } &     489.9   \\\\\n",
       "\\textbf{Df Model:}         &           4      & \\textbf{                     } &             \\\\\n",
       "\\textbf{Covariance Type:}  &    nonrobust     & \\textbf{                     } &             \\\\\n",
       "\\bottomrule\n",
       "\\end{tabular}\n",
       "\\begin{tabular}{lcccccc}\n",
       "                   & \\textbf{coef} & \\textbf{std err} & \\textbf{t} & \\textbf{P$> |$t$|$} & \\textbf{[0.025} & \\textbf{0.975]}  \\\\\n",
       "\\midrule\n",
       "\\textbf{Intercept} &      30.6773  &       14.900     &     2.059  &         0.043        &        1.001    &       60.354     \\\\\n",
       "\\textbf{WT}        &       0.4006  &        1.693     &     0.237  &         0.814        &       -2.972    &        3.773     \\\\\n",
       "\\textbf{VOL}       &      -0.3361  &        0.569     &    -0.591  &         0.556        &       -1.469    &        0.796     \\\\\n",
       "\\textbf{SP}        &       0.3956  &        0.158     &     2.500  &         0.015        &        0.080    &        0.711     \\\\\n",
       "\\textbf{HP}        &      -0.2054  &        0.039     &    -5.239  &         0.000        &       -0.284    &       -0.127     \\\\\n",
       "\\bottomrule\n",
       "\\end{tabular}\n",
       "\\begin{tabular}{lclc}\n",
       "\\textbf{Omnibus:}       & 10.780 & \\textbf{  Durbin-Watson:     } &    1.403  \\\\\n",
       "\\textbf{Prob(Omnibus):} &  0.005 & \\textbf{  Jarque-Bera (JB):  } &   11.722  \\\\\n",
       "\\textbf{Skew:}          &  0.707 & \\textbf{  Prob(JB):          } &  0.00285  \\\\\n",
       "\\textbf{Kurtosis:}      &  4.215 & \\textbf{  Cond. No.          } & 6.09e+03  \\\\\n",
       "\\bottomrule\n",
       "\\end{tabular}\n",
       "%\\caption{OLS Regression Results}\n",
       "\\end{center}\n",
       "\n",
       "Notes: \\newline\n",
       " [1] Standard Errors assume that the covariance matrix of the errors is correctly specified. \\newline\n",
       " [2] The condition number is large, 6.09e+03. This might indicate that there are \\newline\n",
       " strong multicollinearity or other numerical problems."
      ],
      "text/plain": [
       "<class 'statsmodels.iolib.summary.Summary'>\n",
       "\"\"\"\n",
       "                            OLS Regression Results                            \n",
       "==============================================================================\n",
       "Dep. Variable:                    MPG   R-squared:                       0.771\n",
       "Model:                            OLS   Adj. R-squared:                  0.758\n",
       "Method:                 Least Squares   F-statistic:                     63.80\n",
       "Date:                Sat, 08 Feb 2025   Prob (F-statistic):           1.54e-23\n",
       "Time:                        09:29:26   Log-Likelihood:                -233.96\n",
       "No. Observations:                  81   AIC:                             477.9\n",
       "Df Residuals:                      76   BIC:                             489.9\n",
       "Df Model:                           4                                         \n",
       "Covariance Type:            nonrobust                                         \n",
       "==============================================================================\n",
       "                 coef    std err          t      P>|t|      [0.025      0.975]\n",
       "------------------------------------------------------------------------------\n",
       "Intercept     30.6773     14.900      2.059      0.043       1.001      60.354\n",
       "WT             0.4006      1.693      0.237      0.814      -2.972       3.773\n",
       "VOL           -0.3361      0.569     -0.591      0.556      -1.469       0.796\n",
       "SP             0.3956      0.158      2.500      0.015       0.080       0.711\n",
       "HP            -0.2054      0.039     -5.239      0.000      -0.284      -0.127\n",
       "==============================================================================\n",
       "Omnibus:                       10.780   Durbin-Watson:                   1.403\n",
       "Prob(Omnibus):                  0.005   Jarque-Bera (JB):               11.722\n",
       "Skew:                           0.707   Prob(JB):                      0.00285\n",
       "Kurtosis:                       4.215   Cond. No.                     6.09e+03\n",
       "==============================================================================\n",
       "\n",
       "Notes:\n",
       "[1] Standard Errors assume that the covariance matrix of the errors is correctly specified.\n",
       "[2] The condition number is large, 6.09e+03. This might indicate that there are\n",
       "strong multicollinearity or other numerical problems.\n",
       "\"\"\""
      ]
     },
     "execution_count": 24,
     "metadata": {},
     "output_type": "execute_result"
    }
   ],
   "source": [
    "model.summary()"
   ]
  },
  {
   "cell_type": "markdown",
   "id": "0e6b3b1d-c6c3-460c-90d5-3f4bc0a96f8b",
   "metadata": {},
   "source": [
    "### Observations from moel summary \n",
    "- The R-squared and adjusted R-squred values are good and about 75% of variability in Y is explained by X columns\n",
    "- The probability value with respect to F-statistic is close to zero, indicating that all or some of x columns are significant\n",
    "- The p-values for VOL and WT are higher than 5% indication issue among themselves, which need to be furthar explored"
   ]
  },
  {
   "cell_type": "markdown",
   "id": "8f954520-96f0-4b23-8b22-306cad3bf5db",
   "metadata": {},
   "source": [
    "### Performance metrics fo model1"
   ]
  },
  {
   "cell_type": "code",
   "execution_count": 27,
   "id": "f4aa38f2-ca42-4716-9110-9350ed69f5d5",
   "metadata": {},
   "outputs": [
    {
     "data": {
      "text/html": [
       "<div>\n",
       "<style scoped>\n",
       "    .dataframe tbody tr th:only-of-type {\n",
       "        vertical-align: middle;\n",
       "    }\n",
       "\n",
       "    .dataframe tbody tr th {\n",
       "        vertical-align: top;\n",
       "    }\n",
       "\n",
       "    .dataframe thead th {\n",
       "        text-align: right;\n",
       "    }\n",
       "</style>\n",
       "<table border=\"1\" class=\"dataframe\">\n",
       "  <thead>\n",
       "    <tr style=\"text-align: right;\">\n",
       "      <th></th>\n",
       "      <th>actual_y1</th>\n",
       "    </tr>\n",
       "  </thead>\n",
       "  <tbody>\n",
       "    <tr>\n",
       "      <th>0</th>\n",
       "      <td>53.700681</td>\n",
       "    </tr>\n",
       "    <tr>\n",
       "      <th>1</th>\n",
       "      <td>50.013401</td>\n",
       "    </tr>\n",
       "    <tr>\n",
       "      <th>2</th>\n",
       "      <td>50.013401</td>\n",
       "    </tr>\n",
       "    <tr>\n",
       "      <th>3</th>\n",
       "      <td>45.696322</td>\n",
       "    </tr>\n",
       "    <tr>\n",
       "      <th>4</th>\n",
       "      <td>50.504232</td>\n",
       "    </tr>\n",
       "  </tbody>\n",
       "</table>\n",
       "</div>"
      ],
      "text/plain": [
       "   actual_y1\n",
       "0  53.700681\n",
       "1  50.013401\n",
       "2  50.013401\n",
       "3  45.696322\n",
       "4  50.504232"
      ]
     },
     "execution_count": 27,
     "metadata": {},
     "output_type": "execute_result"
    }
   ],
   "source": [
    "# Find the performance metrics\n",
    "# Create a data frame with actual y and predicted y columns\n",
    "df1=pd.DataFrame()\n",
    "df1[\"actual_y1\"]=cars[\"MPG\"]\n",
    "df1.head()"
   ]
  },
  {
   "cell_type": "code",
   "execution_count": 28,
   "id": "fe03afce-aa0c-4895-b229-1795cc3df3d6",
   "metadata": {},
   "outputs": [
    {
     "data": {
      "text/html": [
       "<div>\n",
       "<style scoped>\n",
       "    .dataframe tbody tr th:only-of-type {\n",
       "        vertical-align: middle;\n",
       "    }\n",
       "\n",
       "    .dataframe tbody tr th {\n",
       "        vertical-align: top;\n",
       "    }\n",
       "\n",
       "    .dataframe thead th {\n",
       "        text-align: right;\n",
       "    }\n",
       "</style>\n",
       "<table border=\"1\" class=\"dataframe\">\n",
       "  <thead>\n",
       "    <tr style=\"text-align: right;\">\n",
       "      <th></th>\n",
       "      <th>actual_y1</th>\n",
       "      <th>pred_y1</th>\n",
       "    </tr>\n",
       "  </thead>\n",
       "  <tbody>\n",
       "    <tr>\n",
       "      <th>0</th>\n",
       "      <td>53.700681</td>\n",
       "      <td>43.441935</td>\n",
       "    </tr>\n",
       "    <tr>\n",
       "      <th>1</th>\n",
       "      <td>50.013401</td>\n",
       "      <td>42.388793</td>\n",
       "    </tr>\n",
       "    <tr>\n",
       "      <th>2</th>\n",
       "      <td>50.013401</td>\n",
       "      <td>42.279341</td>\n",
       "    </tr>\n",
       "    <tr>\n",
       "      <th>3</th>\n",
       "      <td>45.696322</td>\n",
       "      <td>42.538360</td>\n",
       "    </tr>\n",
       "    <tr>\n",
       "      <th>4</th>\n",
       "      <td>50.504232</td>\n",
       "      <td>42.172648</td>\n",
       "    </tr>\n",
       "  </tbody>\n",
       "</table>\n",
       "</div>"
      ],
      "text/plain": [
       "   actual_y1    pred_y1\n",
       "0  53.700681  43.441935\n",
       "1  50.013401  42.388793\n",
       "2  50.013401  42.279341\n",
       "3  45.696322  42.538360\n",
       "4  50.504232  42.172648"
      ]
     },
     "execution_count": 28,
     "metadata": {},
     "output_type": "execute_result"
    }
   ],
   "source": [
    "# Predict for the given x data columns\n",
    "pred_y1=model.predict(cars.iloc[:,0:4])\n",
    "df1[\"pred_y1\"]=pred_y1\n",
    "df1.head()"
   ]
  },
  {
   "cell_type": "code",
   "execution_count": 29,
   "id": "29505168-810f-4d11-88fb-9c9c9105c3c8",
   "metadata": {},
   "outputs": [
    {
     "name": "stdout",
     "output_type": "stream",
     "text": [
      "MSE : 18.897141152343096\n"
     ]
    }
   ],
   "source": [
    "# Compute the mean squared Error (MSE) for model1\n",
    "from sklearn.metrics import mean_squared_error\n",
    "print(\"MSE :\", mean_squared_error(df1[\"actual_y1\"], df1[\"pred_y1\"]))"
   ]
  },
  {
   "cell_type": "markdown",
   "id": "656ea444-30ae-4e68-af8c-a0841f3a4081",
   "metadata": {},
   "source": [
    "# F-test in multiple Linear Regression\n",
    "- In the content of multiple regression,the F-test is a statical test used "
   ]
  },
  {
   "cell_type": "code",
   "execution_count": 31,
   "id": "38e861a5-6847-4c14-b1ed-db1af9f35239",
   "metadata": {},
   "outputs": [
    {
     "name": "stdout",
     "output_type": "stream",
     "text": [
      "MSE : 18.897141152343096\n",
      "RMSE : 4.347084212704315\n"
     ]
    }
   ],
   "source": [
    "# Compute the Mean squared Error (MSE), RMSE for model1\n",
    "\n",
    "from sklearn.metrics import mean_squared_error\n",
    "mse=mean_squared_error(df1[\"actual_y1\"],df1[\"pred_y1\"])\n",
    "print(\"MSE :\",mse)\n",
    "print(\"RMSE :\",np.sqrt(mse))"
   ]
  },
  {
   "cell_type": "code",
   "execution_count": 32,
   "id": "ee2516a1-ab7b-4819-90f1-9bb0d54d02d5",
   "metadata": {},
   "outputs": [
    {
     "data": {
      "text/html": [
       "<div>\n",
       "<style scoped>\n",
       "    .dataframe tbody tr th:only-of-type {\n",
       "        vertical-align: middle;\n",
       "    }\n",
       "\n",
       "    .dataframe tbody tr th {\n",
       "        vertical-align: top;\n",
       "    }\n",
       "\n",
       "    .dataframe thead th {\n",
       "        text-align: right;\n",
       "    }\n",
       "</style>\n",
       "<table border=\"1\" class=\"dataframe\">\n",
       "  <thead>\n",
       "    <tr style=\"text-align: right;\">\n",
       "      <th></th>\n",
       "      <th>Variables</th>\n",
       "      <th>VIF</th>\n",
       "    </tr>\n",
       "  </thead>\n",
       "  <tbody>\n",
       "    <tr>\n",
       "      <th>0</th>\n",
       "      <td>Hp</td>\n",
       "      <td>19.926589</td>\n",
       "    </tr>\n",
       "    <tr>\n",
       "      <th>1</th>\n",
       "      <td>WT</td>\n",
       "      <td>639.533818</td>\n",
       "    </tr>\n",
       "    <tr>\n",
       "      <th>2</th>\n",
       "      <td>VOL</td>\n",
       "      <td>638.806084</td>\n",
       "    </tr>\n",
       "    <tr>\n",
       "      <th>3</th>\n",
       "      <td>SP</td>\n",
       "      <td>20.007639</td>\n",
       "    </tr>\n",
       "  </tbody>\n",
       "</table>\n",
       "</div>"
      ],
      "text/plain": [
       "  Variables         VIF\n",
       "0        Hp   19.926589\n",
       "1        WT  639.533818\n",
       "2       VOL  638.806084\n",
       "3        SP   20.007639"
      ]
     },
     "execution_count": 32,
     "metadata": {},
     "output_type": "execute_result"
    }
   ],
   "source": [
    "# Compute VIF values\n",
    "rsq_hp = smf.ols('HP~WT+VOL+SP',data=cars).fit().rsquared\n",
    "vif_hp = 1/(1-rsq_hp)\n",
    "\n",
    "rsq_wt = smf.ols('WT~HP+VOL+SP',data=cars).fit().rsquared  \n",
    "vif_wt = 1/(1-rsq_wt) \n",
    "\n",
    "rsq_vol = smf.ols('VOL~WT+SP+HP',data=cars).fit().rsquared  \n",
    "vif_vol = 1/(1-rsq_vol) \n",
    "\n",
    "rsq_sp = smf.ols('SP~WT+VOL+HP',data=cars).fit().rsquared  \n",
    "vif_sp = 1/(1-rsq_sp) \n",
    "\n",
    "# Storing vif values in a data frame\n",
    "d1 = {'Variables':['Hp','WT','VOL','SP'],'VIF':[vif_hp,vif_wt,vif_vol,vif_sp]}\n",
    "Vif_frame = pd.DataFrame(d1)  \n",
    "Vif_frame"
   ]
  },
  {
   "cell_type": "markdown",
   "id": "fd39b546-1fd5-40df-8113-3e8aaf06fc5f",
   "metadata": {},
   "source": [
    "### Observations:\n",
    "- The idela range of VIF values shall be between 0 to 10.However slightly higher values can be tolerated\n",
    "- As seen from the very high VIF values for VOL and WT,it is clear that they are prone to multicollinearity proble.\n",
    "- Hence it is decided to drop one columns (either VOL or WT) to overcome the muticollinearity.\n",
    "- It is decided to drop WT and retain column in further models."
   ]
  },
  {
   "cell_type": "code",
   "execution_count": 41,
   "id": "2f0e90fa-492b-4d03-a108-b1d25533d75b",
   "metadata": {},
   "outputs": [
    {
     "data": {
      "text/html": [
       "<div>\n",
       "<style scoped>\n",
       "    .dataframe tbody tr th:only-of-type {\n",
       "        vertical-align: middle;\n",
       "    }\n",
       "\n",
       "    .dataframe tbody tr th {\n",
       "        vertical-align: top;\n",
       "    }\n",
       "\n",
       "    .dataframe thead th {\n",
       "        text-align: right;\n",
       "    }\n",
       "</style>\n",
       "<table border=\"1\" class=\"dataframe\">\n",
       "  <thead>\n",
       "    <tr style=\"text-align: right;\">\n",
       "      <th></th>\n",
       "      <th>HP</th>\n",
       "      <th>VOL</th>\n",
       "      <th>SP</th>\n",
       "      <th>MPG</th>\n",
       "    </tr>\n",
       "  </thead>\n",
       "  <tbody>\n",
       "    <tr>\n",
       "      <th>0</th>\n",
       "      <td>49</td>\n",
       "      <td>89</td>\n",
       "      <td>104.185353</td>\n",
       "      <td>53.700681</td>\n",
       "    </tr>\n",
       "    <tr>\n",
       "      <th>1</th>\n",
       "      <td>55</td>\n",
       "      <td>92</td>\n",
       "      <td>105.461264</td>\n",
       "      <td>50.013401</td>\n",
       "    </tr>\n",
       "    <tr>\n",
       "      <th>2</th>\n",
       "      <td>55</td>\n",
       "      <td>92</td>\n",
       "      <td>105.461264</td>\n",
       "      <td>50.013401</td>\n",
       "    </tr>\n",
       "    <tr>\n",
       "      <th>3</th>\n",
       "      <td>70</td>\n",
       "      <td>92</td>\n",
       "      <td>113.461264</td>\n",
       "      <td>45.696322</td>\n",
       "    </tr>\n",
       "    <tr>\n",
       "      <th>4</th>\n",
       "      <td>53</td>\n",
       "      <td>92</td>\n",
       "      <td>104.461264</td>\n",
       "      <td>50.504232</td>\n",
       "    </tr>\n",
       "  </tbody>\n",
       "</table>\n",
       "</div>"
      ],
      "text/plain": [
       "   HP  VOL          SP        MPG\n",
       "0  49   89  104.185353  53.700681\n",
       "1  55   92  105.461264  50.013401\n",
       "2  55   92  105.461264  50.013401\n",
       "3  70   92  113.461264  45.696322\n",
       "4  53   92  104.461264  50.504232"
      ]
     },
     "execution_count": 41,
     "metadata": {},
     "output_type": "execute_result"
    }
   ],
   "source": [
    "cars1=cars.drop(\"WT\",axis=1)\n",
    "cars1.head()"
   ]
  },
  {
   "cell_type": "code",
   "execution_count": 49,
   "id": "77992f5b-faba-4f98-b540-6db5243fdef5",
   "metadata": {},
   "outputs": [],
   "source": [
    "# Build model2\n",
    "import statsmodels.formula.api as smf\n",
    "model2 = smf.ols('MPG~VOL+SP+HP',data=cars1).fit()"
   ]
  },
  {
   "cell_type": "code",
   "execution_count": 51,
   "id": "ae1757f7-54b3-4bf8-8ce6-ea0b2370be8f",
   "metadata": {},
   "outputs": [
    {
     "data": {
      "text/html": [
       "<table class=\"simpletable\">\n",
       "<caption>OLS Regression Results</caption>\n",
       "<tr>\n",
       "  <th>Dep. Variable:</th>           <td>MPG</td>       <th>  R-squared:         </th> <td>   0.770</td>\n",
       "</tr>\n",
       "<tr>\n",
       "  <th>Model:</th>                   <td>OLS</td>       <th>  Adj. R-squared:    </th> <td>   0.761</td>\n",
       "</tr>\n",
       "<tr>\n",
       "  <th>Method:</th>             <td>Least Squares</td>  <th>  F-statistic:       </th> <td>   86.11</td>\n",
       "</tr>\n",
       "<tr>\n",
       "  <th>Date:</th>             <td>Sat, 08 Feb 2025</td> <th>  Prob (F-statistic):</th> <td>1.56e-24</td>\n",
       "</tr>\n",
       "<tr>\n",
       "  <th>Time:</th>                 <td>09:30:17</td>     <th>  Log-Likelihood:    </th> <td> -233.99</td>\n",
       "</tr>\n",
       "<tr>\n",
       "  <th>No. Observations:</th>      <td>    81</td>      <th>  AIC:               </th> <td>   476.0</td>\n",
       "</tr>\n",
       "<tr>\n",
       "  <th>Df Residuals:</th>          <td>    77</td>      <th>  BIC:               </th> <td>   485.6</td>\n",
       "</tr>\n",
       "<tr>\n",
       "  <th>Df Model:</th>              <td>     3</td>      <th>                     </th>     <td> </td>   \n",
       "</tr>\n",
       "<tr>\n",
       "  <th>Covariance Type:</th>      <td>nonrobust</td>    <th>                     </th>     <td> </td>   \n",
       "</tr>\n",
       "</table>\n",
       "<table class=\"simpletable\">\n",
       "<tr>\n",
       "      <td></td>         <th>coef</th>     <th>std err</th>      <th>t</th>      <th>P>|t|</th>  <th>[0.025</th>    <th>0.975]</th>  \n",
       "</tr>\n",
       "<tr>\n",
       "  <th>Intercept</th> <td>   29.9234</td> <td>   14.466</td> <td>    2.069</td> <td> 0.042</td> <td>    1.118</td> <td>   58.729</td>\n",
       "</tr>\n",
       "<tr>\n",
       "  <th>VOL</th>       <td>   -0.2017</td> <td>    0.023</td> <td>   -8.928</td> <td> 0.000</td> <td>   -0.247</td> <td>   -0.157</td>\n",
       "</tr>\n",
       "<tr>\n",
       "  <th>SP</th>        <td>    0.4007</td> <td>    0.156</td> <td>    2.571</td> <td> 0.012</td> <td>    0.090</td> <td>    0.711</td>\n",
       "</tr>\n",
       "<tr>\n",
       "  <th>HP</th>        <td>   -0.2067</td> <td>    0.039</td> <td>   -5.353</td> <td> 0.000</td> <td>   -0.284</td> <td>   -0.130</td>\n",
       "</tr>\n",
       "</table>\n",
       "<table class=\"simpletable\">\n",
       "<tr>\n",
       "  <th>Omnibus:</th>       <td>10.810</td> <th>  Durbin-Watson:     </th> <td>   1.389</td>\n",
       "</tr>\n",
       "<tr>\n",
       "  <th>Prob(Omnibus):</th> <td> 0.004</td> <th>  Jarque-Bera (JB):  </th> <td>  11.822</td>\n",
       "</tr>\n",
       "<tr>\n",
       "  <th>Skew:</th>          <td> 0.704</td> <th>  Prob(JB):          </th> <td> 0.00271</td>\n",
       "</tr>\n",
       "<tr>\n",
       "  <th>Kurtosis:</th>      <td> 4.233</td> <th>  Cond. No.          </th> <td>5.87e+03</td>\n",
       "</tr>\n",
       "</table><br/><br/>Notes:<br/>[1] Standard Errors assume that the covariance matrix of the errors is correctly specified.<br/>[2] The condition number is large, 5.87e+03. This might indicate that there are<br/>strong multicollinearity or other numerical problems."
      ],
      "text/latex": [
       "\\begin{center}\n",
       "\\begin{tabular}{lclc}\n",
       "\\toprule\n",
       "\\textbf{Dep. Variable:}    &       MPG        & \\textbf{  R-squared:         } &     0.770   \\\\\n",
       "\\textbf{Model:}            &       OLS        & \\textbf{  Adj. R-squared:    } &     0.761   \\\\\n",
       "\\textbf{Method:}           &  Least Squares   & \\textbf{  F-statistic:       } &     86.11   \\\\\n",
       "\\textbf{Date:}             & Sat, 08 Feb 2025 & \\textbf{  Prob (F-statistic):} &  1.56e-24   \\\\\n",
       "\\textbf{Time:}             &     09:30:17     & \\textbf{  Log-Likelihood:    } &   -233.99   \\\\\n",
       "\\textbf{No. Observations:} &          81      & \\textbf{  AIC:               } &     476.0   \\\\\n",
       "\\textbf{Df Residuals:}     &          77      & \\textbf{  BIC:               } &     485.6   \\\\\n",
       "\\textbf{Df Model:}         &           3      & \\textbf{                     } &             \\\\\n",
       "\\textbf{Covariance Type:}  &    nonrobust     & \\textbf{                     } &             \\\\\n",
       "\\bottomrule\n",
       "\\end{tabular}\n",
       "\\begin{tabular}{lcccccc}\n",
       "                   & \\textbf{coef} & \\textbf{std err} & \\textbf{t} & \\textbf{P$> |$t$|$} & \\textbf{[0.025} & \\textbf{0.975]}  \\\\\n",
       "\\midrule\n",
       "\\textbf{Intercept} &      29.9234  &       14.466     &     2.069  &         0.042        &        1.118    &       58.729     \\\\\n",
       "\\textbf{VOL}       &      -0.2017  &        0.023     &    -8.928  &         0.000        &       -0.247    &       -0.157     \\\\\n",
       "\\textbf{SP}        &       0.4007  &        0.156     &     2.571  &         0.012        &        0.090    &        0.711     \\\\\n",
       "\\textbf{HP}        &      -0.2067  &        0.039     &    -5.353  &         0.000        &       -0.284    &       -0.130     \\\\\n",
       "\\bottomrule\n",
       "\\end{tabular}\n",
       "\\begin{tabular}{lclc}\n",
       "\\textbf{Omnibus:}       & 10.810 & \\textbf{  Durbin-Watson:     } &    1.389  \\\\\n",
       "\\textbf{Prob(Omnibus):} &  0.004 & \\textbf{  Jarque-Bera (JB):  } &   11.822  \\\\\n",
       "\\textbf{Skew:}          &  0.704 & \\textbf{  Prob(JB):          } &  0.00271  \\\\\n",
       "\\textbf{Kurtosis:}      &  4.233 & \\textbf{  Cond. No.          } & 5.87e+03  \\\\\n",
       "\\bottomrule\n",
       "\\end{tabular}\n",
       "%\\caption{OLS Regression Results}\n",
       "\\end{center}\n",
       "\n",
       "Notes: \\newline\n",
       " [1] Standard Errors assume that the covariance matrix of the errors is correctly specified. \\newline\n",
       " [2] The condition number is large, 5.87e+03. This might indicate that there are \\newline\n",
       " strong multicollinearity or other numerical problems."
      ],
      "text/plain": [
       "<class 'statsmodels.iolib.summary.Summary'>\n",
       "\"\"\"\n",
       "                            OLS Regression Results                            \n",
       "==============================================================================\n",
       "Dep. Variable:                    MPG   R-squared:                       0.770\n",
       "Model:                            OLS   Adj. R-squared:                  0.761\n",
       "Method:                 Least Squares   F-statistic:                     86.11\n",
       "Date:                Sat, 08 Feb 2025   Prob (F-statistic):           1.56e-24\n",
       "Time:                        09:30:17   Log-Likelihood:                -233.99\n",
       "No. Observations:                  81   AIC:                             476.0\n",
       "Df Residuals:                      77   BIC:                             485.6\n",
       "Df Model:                           3                                         \n",
       "Covariance Type:            nonrobust                                         \n",
       "==============================================================================\n",
       "                 coef    std err          t      P>|t|      [0.025      0.975]\n",
       "------------------------------------------------------------------------------\n",
       "Intercept     29.9234     14.466      2.069      0.042       1.118      58.729\n",
       "VOL           -0.2017      0.023     -8.928      0.000      -0.247      -0.157\n",
       "SP             0.4007      0.156      2.571      0.012       0.090       0.711\n",
       "HP            -0.2067      0.039     -5.353      0.000      -0.284      -0.130\n",
       "==============================================================================\n",
       "Omnibus:                       10.810   Durbin-Watson:                   1.389\n",
       "Prob(Omnibus):                  0.004   Jarque-Bera (JB):               11.822\n",
       "Skew:                           0.704   Prob(JB):                      0.00271\n",
       "Kurtosis:                       4.233   Cond. No.                     5.87e+03\n",
       "==============================================================================\n",
       "\n",
       "Notes:\n",
       "[1] Standard Errors assume that the covariance matrix of the errors is correctly specified.\n",
       "[2] The condition number is large, 5.87e+03. This might indicate that there are\n",
       "strong multicollinearity or other numerical problems.\n",
       "\"\"\""
      ]
     },
     "execution_count": 51,
     "metadata": {},
     "output_type": "execute_result"
    }
   ],
   "source": [
    "model2.summary()"
   ]
  },
  {
   "cell_type": "code",
   "execution_count": 53,
   "id": "c6ad5e01-fcd8-4afb-bebd-ffb5098525b3",
   "metadata": {},
   "outputs": [
    {
     "data": {
      "text/html": [
       "<div>\n",
       "<style scoped>\n",
       "    .dataframe tbody tr th:only-of-type {\n",
       "        vertical-align: middle;\n",
       "    }\n",
       "\n",
       "    .dataframe tbody tr th {\n",
       "        vertical-align: top;\n",
       "    }\n",
       "\n",
       "    .dataframe thead th {\n",
       "        text-align: right;\n",
       "    }\n",
       "</style>\n",
       "<table border=\"1\" class=\"dataframe\">\n",
       "  <thead>\n",
       "    <tr style=\"text-align: right;\">\n",
       "      <th></th>\n",
       "      <th>actual_y2</th>\n",
       "    </tr>\n",
       "  </thead>\n",
       "  <tbody>\n",
       "    <tr>\n",
       "      <th>0</th>\n",
       "      <td>53.700681</td>\n",
       "    </tr>\n",
       "    <tr>\n",
       "      <th>1</th>\n",
       "      <td>50.013401</td>\n",
       "    </tr>\n",
       "    <tr>\n",
       "      <th>2</th>\n",
       "      <td>50.013401</td>\n",
       "    </tr>\n",
       "    <tr>\n",
       "      <th>3</th>\n",
       "      <td>45.696322</td>\n",
       "    </tr>\n",
       "    <tr>\n",
       "      <th>4</th>\n",
       "      <td>50.504232</td>\n",
       "    </tr>\n",
       "  </tbody>\n",
       "</table>\n",
       "</div>"
      ],
      "text/plain": [
       "   actual_y2\n",
       "0  53.700681\n",
       "1  50.013401\n",
       "2  50.013401\n",
       "3  45.696322\n",
       "4  50.504232"
      ]
     },
     "execution_count": 53,
     "metadata": {},
     "output_type": "execute_result"
    }
   ],
   "source": [
    "# find the performance metrics\n",
    "# Create a data frame with actual y \n",
    "df2=pd.DataFrame()\n",
    "df2[\"actual_y2\"]=cars[\"MPG\"]\n",
    "df2.head()"
   ]
  },
  {
   "cell_type": "code",
   "execution_count": 56,
   "id": "0b7ef0cc-2cb5-4418-bd70-086e4c283858",
   "metadata": {},
   "outputs": [
    {
     "data": {
      "text/html": [
       "<div>\n",
       "<style scoped>\n",
       "    .dataframe tbody tr th:only-of-type {\n",
       "        vertical-align: middle;\n",
       "    }\n",
       "\n",
       "    .dataframe tbody tr th {\n",
       "        vertical-align: top;\n",
       "    }\n",
       "\n",
       "    .dataframe thead th {\n",
       "        text-align: right;\n",
       "    }\n",
       "</style>\n",
       "<table border=\"1\" class=\"dataframe\">\n",
       "  <thead>\n",
       "    <tr style=\"text-align: right;\">\n",
       "      <th></th>\n",
       "      <th>actual_y2</th>\n",
       "      <th>pred_y2</th>\n",
       "    </tr>\n",
       "  </thead>\n",
       "  <tbody>\n",
       "    <tr>\n",
       "      <th>0</th>\n",
       "      <td>53.700681</td>\n",
       "      <td>43.590769</td>\n",
       "    </tr>\n",
       "    <tr>\n",
       "      <th>1</th>\n",
       "      <td>50.013401</td>\n",
       "      <td>42.256794</td>\n",
       "    </tr>\n",
       "    <tr>\n",
       "      <th>2</th>\n",
       "      <td>50.013401</td>\n",
       "      <td>42.256794</td>\n",
       "    </tr>\n",
       "    <tr>\n",
       "      <th>3</th>\n",
       "      <td>45.696322</td>\n",
       "      <td>42.361497</td>\n",
       "    </tr>\n",
       "    <tr>\n",
       "      <th>4</th>\n",
       "      <td>50.504232</td>\n",
       "      <td>42.269544</td>\n",
       "    </tr>\n",
       "  </tbody>\n",
       "</table>\n",
       "</div>"
      ],
      "text/plain": [
       "   actual_y2    pred_y2\n",
       "0  53.700681  43.590769\n",
       "1  50.013401  42.256794\n",
       "2  50.013401  42.256794\n",
       "3  45.696322  42.361497\n",
       "4  50.504232  42.269544"
      ]
     },
     "execution_count": 56,
     "metadata": {},
     "output_type": "execute_result"
    }
   ],
   "source": [
    "pred_y2 = model2.predict(cars.iloc[:,0:4])\n",
    "df2[\"pred_y2\"] = pred_y2\n",
    "df2.head()"
   ]
  },
  {
   "cell_type": "markdown",
   "id": "f9994229-b6ba-48a5-aa75-40204ed892fa",
   "metadata": {},
   "source": [
    "Notes:\n",
    "    [1] Standard Errors assume that the covarience       matrix of errors is correctly specified.\n",
    "    [2] The condition number i slarge,5.87e+03.This      might indicate that there are stronge                multicollinearity \n",
    "## Observations from moel2 summary\n",
    "- The adjusted R-suared value improved slightly to 0.76\n",
    "- All the p-values for model parametersa re less than 5% hence they are significant\n",
    "- Therefore the HP, VOL, SP columns are finalized as the significant predictor for the MPG response vriabl\n",
    "- There is no improvement in MSE value"
   ]
  },
  {
   "cell_type": "code",
   "execution_count": 58,
   "id": "5c631a06-9224-4f16-9f6b-bb87c691a503",
   "metadata": {},
   "outputs": [
    {
     "data": {
      "text/html": [
       "<div>\n",
       "<style scoped>\n",
       "    .dataframe tbody tr th:only-of-type {\n",
       "        vertical-align: middle;\n",
       "    }\n",
       "\n",
       "    .dataframe tbody tr th {\n",
       "        vertical-align: top;\n",
       "    }\n",
       "\n",
       "    .dataframe thead th {\n",
       "        text-align: right;\n",
       "    }\n",
       "</style>\n",
       "<table border=\"1\" class=\"dataframe\">\n",
       "  <thead>\n",
       "    <tr style=\"text-align: right;\">\n",
       "      <th></th>\n",
       "      <th>HP</th>\n",
       "      <th>VOL</th>\n",
       "      <th>SP</th>\n",
       "      <th>MPG</th>\n",
       "    </tr>\n",
       "  </thead>\n",
       "  <tbody>\n",
       "    <tr>\n",
       "      <th>0</th>\n",
       "      <td>49</td>\n",
       "      <td>89</td>\n",
       "      <td>104.185353</td>\n",
       "      <td>53.700681</td>\n",
       "    </tr>\n",
       "    <tr>\n",
       "      <th>1</th>\n",
       "      <td>55</td>\n",
       "      <td>92</td>\n",
       "      <td>105.461264</td>\n",
       "      <td>50.013401</td>\n",
       "    </tr>\n",
       "    <tr>\n",
       "      <th>2</th>\n",
       "      <td>55</td>\n",
       "      <td>92</td>\n",
       "      <td>105.461264</td>\n",
       "      <td>50.013401</td>\n",
       "    </tr>\n",
       "    <tr>\n",
       "      <th>3</th>\n",
       "      <td>70</td>\n",
       "      <td>92</td>\n",
       "      <td>113.461264</td>\n",
       "      <td>45.696322</td>\n",
       "    </tr>\n",
       "    <tr>\n",
       "      <th>4</th>\n",
       "      <td>53</td>\n",
       "      <td>92</td>\n",
       "      <td>104.461264</td>\n",
       "      <td>50.504232</td>\n",
       "    </tr>\n",
       "    <tr>\n",
       "      <th>...</th>\n",
       "      <td>...</td>\n",
       "      <td>...</td>\n",
       "      <td>...</td>\n",
       "      <td>...</td>\n",
       "    </tr>\n",
       "    <tr>\n",
       "      <th>76</th>\n",
       "      <td>322</td>\n",
       "      <td>50</td>\n",
       "      <td>169.598513</td>\n",
       "      <td>36.900000</td>\n",
       "    </tr>\n",
       "    <tr>\n",
       "      <th>77</th>\n",
       "      <td>238</td>\n",
       "      <td>115</td>\n",
       "      <td>150.576579</td>\n",
       "      <td>19.197888</td>\n",
       "    </tr>\n",
       "    <tr>\n",
       "      <th>78</th>\n",
       "      <td>263</td>\n",
       "      <td>50</td>\n",
       "      <td>151.598513</td>\n",
       "      <td>34.000000</td>\n",
       "    </tr>\n",
       "    <tr>\n",
       "      <th>79</th>\n",
       "      <td>295</td>\n",
       "      <td>119</td>\n",
       "      <td>167.944460</td>\n",
       "      <td>19.833733</td>\n",
       "    </tr>\n",
       "    <tr>\n",
       "      <th>80</th>\n",
       "      <td>236</td>\n",
       "      <td>107</td>\n",
       "      <td>139.840817</td>\n",
       "      <td>12.101263</td>\n",
       "    </tr>\n",
       "  </tbody>\n",
       "</table>\n",
       "<p>81 rows × 4 columns</p>\n",
       "</div>"
      ],
      "text/plain": [
       "     HP  VOL          SP        MPG\n",
       "0    49   89  104.185353  53.700681\n",
       "1    55   92  105.461264  50.013401\n",
       "2    55   92  105.461264  50.013401\n",
       "3    70   92  113.461264  45.696322\n",
       "4    53   92  104.461264  50.504232\n",
       "..  ...  ...         ...        ...\n",
       "76  322   50  169.598513  36.900000\n",
       "77  238  115  150.576579  19.197888\n",
       "78  263   50  151.598513  34.000000\n",
       "79  295  119  167.944460  19.833733\n",
       "80  236  107  139.840817  12.101263\n",
       "\n",
       "[81 rows x 4 columns]"
      ]
     },
     "execution_count": 58,
     "metadata": {},
     "output_type": "execute_result"
    }
   ],
   "source": [
    "cars1"
   ]
  },
  {
   "cell_type": "markdown",
   "id": "a64b5fc3-f189-4f3d-823d-dacc37e67324",
   "metadata": {},
   "source": [
    "### Identification of High Influence points (Spatial outliers)"
   ]
  },
  {
   "cell_type": "code",
   "execution_count": 63,
   "id": "82bafc43-61ab-4681-88c5-d748f59dc724",
   "metadata": {},
   "outputs": [
    {
     "data": {
      "text/plain": [
       "(81, 4)"
      ]
     },
     "execution_count": 63,
     "metadata": {},
     "output_type": "execute_result"
    }
   ],
   "source": [
    "cars1.shape"
   ]
  },
  {
   "cell_type": "markdown",
   "id": "691adae9-886e-4415-ae16-500fd6058012",
   "metadata": {},
   "source": [
    "#### Leverage (Hat Values):\n",
    "Leverage values diagnose if a data point has an extreme value in terms of the independent variables. A point with high leverage has a great ability to influence the regression line. The threshold for considering a point as having high leverage is typically set at 3(k+1)/n, where k is the number of predictors and n is the sample size."
   ]
  },
  {
   "cell_type": "code",
   "execution_count": 68,
   "id": "46a5ac93-0ee4-4cfd-892a-dc69cc05a542",
   "metadata": {},
   "outputs": [
    {
     "data": {
      "text/plain": [
       "0.14814814814814814"
      ]
     },
     "execution_count": 68,
     "metadata": {},
     "output_type": "execute_result"
    }
   ],
   "source": [
    "# Define variables and assign values\n",
    "k=3  #no of x-columns in cars1\n",
    "n=81  #no of onservation (rows)\n",
    "leverage_cutoff=3*((k+1)/n)\n",
    "leverage_cutoff"
   ]
  },
  {
   "cell_type": "code",
   "execution_count": 78,
   "id": "bcbe8e64-7fa0-4567-9b41-8a34bb2568e4",
   "metadata": {},
   "outputs": [
    {
     "data": {
      "image/png": "[encoded data removed]",
      "text/plain": [
       "<Figure size 640x480 with 1 Axes>"
      ]
     },
     "metadata": {},
     "output_type": "display_data"
    }
   ],
   "source": [
    "from statsmodels.graphics.regressionplots import influence_plot\n",
    "influence_plot(model,alpha=.05)\n",
    "y=[i for i in range(-2,8)]\n",
    "x=[leverage_cutoff for i in range(10)]\n",
    "plt.plot(x,y,'r+')\n",
    "plt.show()"
   ]
  },
  {
   "cell_type": "markdown",
   "id": "8cd34ea0-f420-4663-b2a2-8264b24424bf",
   "metadata": {},
   "source": [
    "### Observations:\n",
    "- From the above plo,it is evident that data points 65,70,76,78,79,80 are the influencers.\n",
    "- S their H leverage values are higher and sixe is higher."
   ]
  },
  {
   "cell_type": "code",
   "execution_count": 94,
   "id": "8c8e37ae-d442-4748-af49-ea38f7e6e837",
   "metadata": {},
   "outputs": [
    {
     "data": {
      "text/html": [
       "<div>\n",
       "<style scoped>\n",
       "    .dataframe tbody tr th:only-of-type {\n",
       "        vertical-align: middle;\n",
       "    }\n",
       "\n",
       "    .dataframe tbody tr th {\n",
       "        vertical-align: top;\n",
       "    }\n",
       "\n",
       "    .dataframe thead th {\n",
       "        text-align: right;\n",
       "    }\n",
       "</style>\n",
       "<table border=\"1\" class=\"dataframe\">\n",
       "  <thead>\n",
       "    <tr style=\"text-align: right;\">\n",
       "      <th></th>\n",
       "      <th>HP</th>\n",
       "      <th>VOL</th>\n",
       "      <th>SP</th>\n",
       "      <th>MPG</th>\n",
       "    </tr>\n",
       "  </thead>\n",
       "  <tbody>\n",
       "    <tr>\n",
       "      <th>65</th>\n",
       "      <td>165</td>\n",
       "      <td>50</td>\n",
       "      <td>126.598513</td>\n",
       "      <td>40.050000</td>\n",
       "    </tr>\n",
       "    <tr>\n",
       "      <th>70</th>\n",
       "      <td>280</td>\n",
       "      <td>50</td>\n",
       "      <td>164.598513</td>\n",
       "      <td>19.678507</td>\n",
       "    </tr>\n",
       "    <tr>\n",
       "      <th>76</th>\n",
       "      <td>322</td>\n",
       "      <td>50</td>\n",
       "      <td>169.598513</td>\n",
       "      <td>36.900000</td>\n",
       "    </tr>\n",
       "    <tr>\n",
       "      <th>78</th>\n",
       "      <td>263</td>\n",
       "      <td>50</td>\n",
       "      <td>151.598513</td>\n",
       "      <td>34.000000</td>\n",
       "    </tr>\n",
       "    <tr>\n",
       "      <th>79</th>\n",
       "      <td>295</td>\n",
       "      <td>119</td>\n",
       "      <td>167.944460</td>\n",
       "      <td>19.833733</td>\n",
       "    </tr>\n",
       "    <tr>\n",
       "      <th>80</th>\n",
       "      <td>236</td>\n",
       "      <td>107</td>\n",
       "      <td>139.840817</td>\n",
       "      <td>12.101263</td>\n",
       "    </tr>\n",
       "  </tbody>\n",
       "</table>\n",
       "</div>"
      ],
      "text/plain": [
       "     HP  VOL          SP        MPG\n",
       "65  165   50  126.598513  40.050000\n",
       "70  280   50  164.598513  19.678507\n",
       "76  322   50  169.598513  36.900000\n",
       "78  263   50  151.598513  34.000000\n",
       "79  295  119  167.944460  19.833733\n",
       "80  236  107  139.840817  12.101263"
      ]
     },
     "execution_count": 94,
     "metadata": {},
     "output_type": "execute_result"
    }
   ],
   "source": [
    "cars1[cars1.index.isin([65,70,76,78,79,80 ])]"
   ]
  },
  {
   "cell_type": "code",
   "execution_count": 96,
   "id": "8fe69a57-765b-4ab8-bc5b-b7ffae6dccb6",
   "metadata": {},
   "outputs": [],
   "source": [
    "cars2=cars1.drop(cars1.index[[65,70,76,78,79,80 ]],axis=0).reset_index(drop=True)"
   ]
  },
  {
   "cell_type": "code",
   "execution_count": 98,
   "id": "6bb84d0b-a6e8-4a23-995f-5cf3d71b0354",
   "metadata": {},
   "outputs": [
    {
     "data": {
      "text/html": [
       "<div>\n",
       "<style scoped>\n",
       "    .dataframe tbody tr th:only-of-type {\n",
       "        vertical-align: middle;\n",
       "    }\n",
       "\n",
       "    .dataframe tbody tr th {\n",
       "        vertical-align: top;\n",
       "    }\n",
       "\n",
       "    .dataframe thead th {\n",
       "        text-align: right;\n",
       "    }\n",
       "</style>\n",
       "<table border=\"1\" class=\"dataframe\">\n",
       "  <thead>\n",
       "    <tr style=\"text-align: right;\">\n",
       "      <th></th>\n",
       "      <th>HP</th>\n",
       "      <th>VOL</th>\n",
       "      <th>SP</th>\n",
       "      <th>MPG</th>\n",
       "    </tr>\n",
       "  </thead>\n",
       "  <tbody>\n",
       "    <tr>\n",
       "      <th>0</th>\n",
       "      <td>49</td>\n",
       "      <td>89</td>\n",
       "      <td>104.185353</td>\n",
       "      <td>53.700681</td>\n",
       "    </tr>\n",
       "    <tr>\n",
       "      <th>1</th>\n",
       "      <td>55</td>\n",
       "      <td>92</td>\n",
       "      <td>105.461264</td>\n",
       "      <td>50.013401</td>\n",
       "    </tr>\n",
       "    <tr>\n",
       "      <th>2</th>\n",
       "      <td>55</td>\n",
       "      <td>92</td>\n",
       "      <td>105.461264</td>\n",
       "      <td>50.013401</td>\n",
       "    </tr>\n",
       "    <tr>\n",
       "      <th>3</th>\n",
       "      <td>70</td>\n",
       "      <td>92</td>\n",
       "      <td>113.461264</td>\n",
       "      <td>45.696322</td>\n",
       "    </tr>\n",
       "    <tr>\n",
       "      <th>4</th>\n",
       "      <td>53</td>\n",
       "      <td>92</td>\n",
       "      <td>104.461264</td>\n",
       "      <td>50.504232</td>\n",
       "    </tr>\n",
       "    <tr>\n",
       "      <th>...</th>\n",
       "      <td>...</td>\n",
       "      <td>...</td>\n",
       "      <td>...</td>\n",
       "      <td>...</td>\n",
       "    </tr>\n",
       "    <tr>\n",
       "      <th>70</th>\n",
       "      <td>162</td>\n",
       "      <td>132</td>\n",
       "      <td>133.140074</td>\n",
       "      <td>23.203569</td>\n",
       "    </tr>\n",
       "    <tr>\n",
       "      <th>71</th>\n",
       "      <td>140</td>\n",
       "      <td>160</td>\n",
       "      <td>124.715241</td>\n",
       "      <td>19.086341</td>\n",
       "    </tr>\n",
       "    <tr>\n",
       "      <th>72</th>\n",
       "      <td>140</td>\n",
       "      <td>129</td>\n",
       "      <td>121.864163</td>\n",
       "      <td>19.086341</td>\n",
       "    </tr>\n",
       "    <tr>\n",
       "      <th>73</th>\n",
       "      <td>175</td>\n",
       "      <td>129</td>\n",
       "      <td>132.864163</td>\n",
       "      <td>18.762837</td>\n",
       "    </tr>\n",
       "    <tr>\n",
       "      <th>74</th>\n",
       "      <td>238</td>\n",
       "      <td>115</td>\n",
       "      <td>150.576579</td>\n",
       "      <td>19.197888</td>\n",
       "    </tr>\n",
       "  </tbody>\n",
       "</table>\n",
       "<p>75 rows × 4 columns</p>\n",
       "</div>"
      ],
      "text/plain": [
       "     HP  VOL          SP        MPG\n",
       "0    49   89  104.185353  53.700681\n",
       "1    55   92  105.461264  50.013401\n",
       "2    55   92  105.461264  50.013401\n",
       "3    70   92  113.461264  45.696322\n",
       "4    53   92  104.461264  50.504232\n",
       "..  ...  ...         ...        ...\n",
       "70  162  132  133.140074  23.203569\n",
       "71  140  160  124.715241  19.086341\n",
       "72  140  129  121.864163  19.086341\n",
       "73  175  129  132.864163  18.762837\n",
       "74  238  115  150.576579  19.197888\n",
       "\n",
       "[75 rows x 4 columns]"
      ]
     },
     "execution_count": 98,
     "metadata": {},
     "output_type": "execute_result"
    }
   ],
   "source": [
    "cars2"
   ]
  },
  {
   "cell_type": "markdown",
   "id": "e32d1836-f0e3-4afc-96d4-0d94b28c385b",
   "metadata": {},
   "source": [
    "### Build model3 on cars2 dataset"
   ]
  },
  {
   "cell_type": "code",
   "execution_count": 103,
   "id": "70fa6f9a-0467-457d-af65-22f695a82cc9",
   "metadata": {},
   "outputs": [],
   "source": [
    "# Rebuild the model \n",
    "model3=smf.ols('MPG~VOL+SP+HP',data=cars2).fit()"
   ]
  },
  {
   "cell_type": "code",
   "execution_count": 110,
   "id": "4288aac0-8076-456a-a73d-10b68f5dbdbd",
   "metadata": {},
   "outputs": [
    {
     "data": {
      "text/html": [
       "<table class=\"simpletable\">\n",
       "<caption>OLS Regression Results</caption>\n",
       "<tr>\n",
       "  <th>Dep. Variable:</th>           <td>MPG</td>       <th>  R-squared:         </th> <td>   0.885</td>\n",
       "</tr>\n",
       "<tr>\n",
       "  <th>Model:</th>                   <td>OLS</td>       <th>  Adj. R-squared:    </th> <td>   0.880</td>\n",
       "</tr>\n",
       "<tr>\n",
       "  <th>Method:</th>             <td>Least Squares</td>  <th>  F-statistic:       </th> <td>   182.7</td>\n",
       "</tr>\n",
       "<tr>\n",
       "  <th>Date:</th>             <td>Sat, 08 Feb 2025</td> <th>  Prob (F-statistic):</th> <td>2.60e-33</td>\n",
       "</tr>\n",
       "<tr>\n",
       "  <th>Time:</th>                 <td>10:01:45</td>     <th>  Log-Likelihood:    </th> <td> -187.46</td>\n",
       "</tr>\n",
       "<tr>\n",
       "  <th>No. Observations:</th>      <td>    75</td>      <th>  AIC:               </th> <td>   382.9</td>\n",
       "</tr>\n",
       "<tr>\n",
       "  <th>Df Residuals:</th>          <td>    71</td>      <th>  BIC:               </th> <td>   392.2</td>\n",
       "</tr>\n",
       "<tr>\n",
       "  <th>Df Model:</th>              <td>     3</td>      <th>                     </th>     <td> </td>   \n",
       "</tr>\n",
       "<tr>\n",
       "  <th>Covariance Type:</th>      <td>nonrobust</td>    <th>                     </th>     <td> </td>   \n",
       "</tr>\n",
       "</table>\n",
       "<table class=\"simpletable\">\n",
       "<tr>\n",
       "      <td></td>         <th>coef</th>     <th>std err</th>      <th>t</th>      <th>P>|t|</th>  <th>[0.025</th>    <th>0.975]</th>  \n",
       "</tr>\n",
       "<tr>\n",
       "  <th>Intercept</th> <td>    4.6816</td> <td>   11.600</td> <td>    0.404</td> <td> 0.688</td> <td>  -18.448</td> <td>   27.811</td>\n",
       "</tr>\n",
       "<tr>\n",
       "  <th>VOL</th>       <td>   -0.0952</td> <td>    0.021</td> <td>   -4.451</td> <td> 0.000</td> <td>   -0.138</td> <td>   -0.053</td>\n",
       "</tr>\n",
       "<tr>\n",
       "  <th>SP</th>        <td>    0.6342</td> <td>    0.124</td> <td>    5.134</td> <td> 0.000</td> <td>    0.388</td> <td>    0.881</td>\n",
       "</tr>\n",
       "<tr>\n",
       "  <th>HP</th>        <td>   -0.3350</td> <td>    0.034</td> <td>   -9.937</td> <td> 0.000</td> <td>   -0.402</td> <td>   -0.268</td>\n",
       "</tr>\n",
       "</table>\n",
       "<table class=\"simpletable\">\n",
       "<tr>\n",
       "  <th>Omnibus:</th>       <td>20.724</td> <th>  Durbin-Watson:     </th> <td>   1.003</td>\n",
       "</tr>\n",
       "<tr>\n",
       "  <th>Prob(Omnibus):</th> <td> 0.000</td> <th>  Jarque-Bera (JB):  </th> <td>  27.198</td>\n",
       "</tr>\n",
       "<tr>\n",
       "  <th>Skew:</th>          <td> 1.233</td> <th>  Prob(JB):          </th> <td>1.24e-06</td>\n",
       "</tr>\n",
       "<tr>\n",
       "  <th>Kurtosis:</th>      <td> 4.619</td> <th>  Cond. No.          </th> <td>6.37e+03</td>\n",
       "</tr>\n",
       "</table><br/><br/>Notes:<br/>[1] Standard Errors assume that the covariance matrix of the errors is correctly specified.<br/>[2] The condition number is large, 6.37e+03. This might indicate that there are<br/>strong multicollinearity or other numerical problems."
      ],
      "text/latex": [
       "\\begin{center}\n",
       "\\begin{tabular}{lclc}\n",
       "\\toprule\n",
       "\\textbf{Dep. Variable:}    &       MPG        & \\textbf{  R-squared:         } &     0.885   \\\\\n",
       "\\textbf{Model:}            &       OLS        & \\textbf{  Adj. R-squared:    } &     0.880   \\\\\n",
       "\\textbf{Method:}           &  Least Squares   & \\textbf{  F-statistic:       } &     182.7   \\\\\n",
       "\\textbf{Date:}             & Sat, 08 Feb 2025 & \\textbf{  Prob (F-statistic):} &  2.60e-33   \\\\\n",
       "\\textbf{Time:}             &     10:01:45     & \\textbf{  Log-Likelihood:    } &   -187.46   \\\\\n",
       "\\textbf{No. Observations:} &          75      & \\textbf{  AIC:               } &     382.9   \\\\\n",
       "\\textbf{Df Residuals:}     &          71      & \\textbf{  BIC:               } &     392.2   \\\\\n",
       "\\textbf{Df Model:}         &           3      & \\textbf{                     } &             \\\\\n",
       "\\textbf{Covariance Type:}  &    nonrobust     & \\textbf{                     } &             \\\\\n",
       "\\bottomrule\n",
       "\\end{tabular}\n",
       "\\begin{tabular}{lcccccc}\n",
       "                   & \\textbf{coef} & \\textbf{std err} & \\textbf{t} & \\textbf{P$> |$t$|$} & \\textbf{[0.025} & \\textbf{0.975]}  \\\\\n",
       "\\midrule\n",
       "\\textbf{Intercept} &       4.6816  &       11.600     &     0.404  &         0.688        &      -18.448    &       27.811     \\\\\n",
       "\\textbf{VOL}       &      -0.0952  &        0.021     &    -4.451  &         0.000        &       -0.138    &       -0.053     \\\\\n",
       "\\textbf{SP}        &       0.6342  &        0.124     &     5.134  &         0.000        &        0.388    &        0.881     \\\\\n",
       "\\textbf{HP}        &      -0.3350  &        0.034     &    -9.937  &         0.000        &       -0.402    &       -0.268     \\\\\n",
       "\\bottomrule\n",
       "\\end{tabular}\n",
       "\\begin{tabular}{lclc}\n",
       "\\textbf{Omnibus:}       & 20.724 & \\textbf{  Durbin-Watson:     } &    1.003  \\\\\n",
       "\\textbf{Prob(Omnibus):} &  0.000 & \\textbf{  Jarque-Bera (JB):  } &   27.198  \\\\\n",
       "\\textbf{Skew:}          &  1.233 & \\textbf{  Prob(JB):          } & 1.24e-06  \\\\\n",
       "\\textbf{Kurtosis:}      &  4.619 & \\textbf{  Cond. No.          } & 6.37e+03  \\\\\n",
       "\\bottomrule\n",
       "\\end{tabular}\n",
       "%\\caption{OLS Regression Results}\n",
       "\\end{center}\n",
       "\n",
       "Notes: \\newline\n",
       " [1] Standard Errors assume that the covariance matrix of the errors is correctly specified. \\newline\n",
       " [2] The condition number is large, 6.37e+03. This might indicate that there are \\newline\n",
       " strong multicollinearity or other numerical problems."
      ],
      "text/plain": [
       "<class 'statsmodels.iolib.summary.Summary'>\n",
       "\"\"\"\n",
       "                            OLS Regression Results                            \n",
       "==============================================================================\n",
       "Dep. Variable:                    MPG   R-squared:                       0.885\n",
       "Model:                            OLS   Adj. R-squared:                  0.880\n",
       "Method:                 Least Squares   F-statistic:                     182.7\n",
       "Date:                Sat, 08 Feb 2025   Prob (F-statistic):           2.60e-33\n",
       "Time:                        10:01:45   Log-Likelihood:                -187.46\n",
       "No. Observations:                  75   AIC:                             382.9\n",
       "Df Residuals:                      71   BIC:                             392.2\n",
       "Df Model:                           3                                         \n",
       "Covariance Type:            nonrobust                                         \n",
       "==============================================================================\n",
       "                 coef    std err          t      P>|t|      [0.025      0.975]\n",
       "------------------------------------------------------------------------------\n",
       "Intercept      4.6816     11.600      0.404      0.688     -18.448      27.811\n",
       "VOL           -0.0952      0.021     -4.451      0.000      -0.138      -0.053\n",
       "SP             0.6342      0.124      5.134      0.000       0.388       0.881\n",
       "HP            -0.3350      0.034     -9.937      0.000      -0.402      -0.268\n",
       "==============================================================================\n",
       "Omnibus:                       20.724   Durbin-Watson:                   1.003\n",
       "Prob(Omnibus):                  0.000   Jarque-Bera (JB):               27.198\n",
       "Skew:                           1.233   Prob(JB):                     1.24e-06\n",
       "Kurtosis:                       4.619   Cond. No.                     6.37e+03\n",
       "==============================================================================\n",
       "\n",
       "Notes:\n",
       "[1] Standard Errors assume that the covariance matrix of the errors is correctly specified.\n",
       "[2] The condition number is large, 6.37e+03. This might indicate that there are\n",
       "strong multicollinearity or other numerical problems.\n",
       "\"\"\""
      ]
     },
     "execution_count": 110,
     "metadata": {},
     "output_type": "execute_result"
    }
   ],
   "source": [
    "model3.summary()"
   ]
  },
  {
   "cell_type": "markdown",
   "id": "a6c520cf-5950-4276-904b-c29654a55ff4",
   "metadata": {},
   "source": [
    "### performance metrics fo rmodel3"
   ]
  },
  {
   "cell_type": "code",
   "execution_count": 113,
   "id": "e5c7f429-873d-4fb8-9ce3-46ee098fcd45",
   "metadata": {},
   "outputs": [
    {
     "data": {
      "text/html": [
       "<div>\n",
       "<style scoped>\n",
       "    .dataframe tbody tr th:only-of-type {\n",
       "        vertical-align: middle;\n",
       "    }\n",
       "\n",
       "    .dataframe tbody tr th {\n",
       "        vertical-align: top;\n",
       "    }\n",
       "\n",
       "    .dataframe thead th {\n",
       "        text-align: right;\n",
       "    }\n",
       "</style>\n",
       "<table border=\"1\" class=\"dataframe\">\n",
       "  <thead>\n",
       "    <tr style=\"text-align: right;\">\n",
       "      <th></th>\n",
       "      <th>actual_y3</th>\n",
       "    </tr>\n",
       "  </thead>\n",
       "  <tbody>\n",
       "    <tr>\n",
       "      <th>0</th>\n",
       "      <td>53.700681</td>\n",
       "    </tr>\n",
       "    <tr>\n",
       "      <th>1</th>\n",
       "      <td>50.013401</td>\n",
       "    </tr>\n",
       "    <tr>\n",
       "      <th>2</th>\n",
       "      <td>50.013401</td>\n",
       "    </tr>\n",
       "    <tr>\n",
       "      <th>3</th>\n",
       "      <td>45.696322</td>\n",
       "    </tr>\n",
       "    <tr>\n",
       "      <th>4</th>\n",
       "      <td>50.504232</td>\n",
       "    </tr>\n",
       "  </tbody>\n",
       "</table>\n",
       "</div>"
      ],
      "text/plain": [
       "   actual_y3\n",
       "0  53.700681\n",
       "1  50.013401\n",
       "2  50.013401\n",
       "3  45.696322\n",
       "4  50.504232"
      ]
     },
     "execution_count": 113,
     "metadata": {},
     "output_type": "execute_result"
    }
   ],
   "source": [
    "df3=pd.DataFrame()\n",
    "df3[\"actual_y3\"]=cars2[\"MPG\"]\n",
    "df3.head()"
   ]
  },
  {
   "cell_type": "code",
   "execution_count": 121,
   "id": "ec99f000-5607-4109-bdb7-31e301c459c2",
   "metadata": {},
   "outputs": [
    {
     "data": {
      "text/html": [
       "<div>\n",
       "<style scoped>\n",
       "    .dataframe tbody tr th:only-of-type {\n",
       "        vertical-align: middle;\n",
       "    }\n",
       "\n",
       "    .dataframe tbody tr th {\n",
       "        vertical-align: top;\n",
       "    }\n",
       "\n",
       "    .dataframe thead th {\n",
       "        text-align: right;\n",
       "    }\n",
       "</style>\n",
       "<table border=\"1\" class=\"dataframe\">\n",
       "  <thead>\n",
       "    <tr style=\"text-align: right;\">\n",
       "      <th></th>\n",
       "      <th>actual_y3</th>\n",
       "      <th>pred_y3</th>\n",
       "    </tr>\n",
       "  </thead>\n",
       "  <tbody>\n",
       "    <tr>\n",
       "      <th>0</th>\n",
       "      <td>53.700681</td>\n",
       "      <td>45.872002</td>\n",
       "    </tr>\n",
       "    <tr>\n",
       "      <th>1</th>\n",
       "      <td>50.013401</td>\n",
       "      <td>44.385430</td>\n",
       "    </tr>\n",
       "    <tr>\n",
       "      <th>2</th>\n",
       "      <td>50.013401</td>\n",
       "      <td>44.385430</td>\n",
       "    </tr>\n",
       "    <tr>\n",
       "      <th>3</th>\n",
       "      <td>45.696322</td>\n",
       "      <td>44.433742</td>\n",
       "    </tr>\n",
       "    <tr>\n",
       "      <th>4</th>\n",
       "      <td>50.504232</td>\n",
       "      <td>44.421272</td>\n",
       "    </tr>\n",
       "  </tbody>\n",
       "</table>\n",
       "</div>"
      ],
      "text/plain": [
       "   actual_y3    pred_y3\n",
       "0  53.700681  45.872002\n",
       "1  50.013401  44.385430\n",
       "2  50.013401  44.385430\n",
       "3  45.696322  44.433742\n",
       "4  50.504232  44.421272"
      ]
     },
     "execution_count": 121,
     "metadata": {},
     "output_type": "execute_result"
    }
   ],
   "source": [
    "#Preict on all x data columns\n",
    "pred_y3=model3.predict(cars2.iloc[:,0:3])\n",
    "df3[\"pred_y3\"]=pred_y3\n",
    "df3.head()"
   ]
  },
  {
   "cell_type": "code",
   "execution_count": 123,
   "id": "03f4c20d-c02f-48c9-8b8d-97c89f0e65b1",
   "metadata": {},
   "outputs": [
    {
     "name": "stdout",
     "output_type": "stream",
     "text": [
      "MSE : 8.681197361563033\n",
      "RMSE : 2.9463871710220015\n"
     ]
    }
   ],
   "source": [
    "from sklearn.metrics import mean_squared_error\n",
    "mse=mean_squared_error(df3[\"actual_y3\"],df3[\"pred_y3\"])\n",
    "print(\"MSE :\",mse)\n",
    "print(\"RMSE :\",np.sqrt(mse))\n"
   ]
  },
  {
   "cell_type": "markdown",
   "id": "07af196c-e047-4ab3-a642-13a1410bf6e0",
   "metadata": {},
   "source": [
    "#### Comparison of models\r\n",
    "                     \r\n",
    "\r\n",
    "| Metric         | Model 1 | Model 2 | Model 3 |\r\n",
    "|----------------|---------|---------|---------|\r\n",
    "| R-squared      | 0.771   | 0.770   | 0.885   |\r\n",
    "| Adj. R-squared | 0.758   | 0.761   | 0.880   |\r\n",
    "| MSE            | 18.89   | 18.91   | 8.68    |\r\n",
    "| RMSE           | 4.34    | 4.34    | 2.94    |\r\n",
    "\r\n",
    "\r\n",
    "- **From the above comparison table it is observed that model3 is the best among all with superior performance metrics**"
   ]
  },
  {
   "cell_type": "code",
   "execution_count": null,
   "id": "1ea6eef6-5f56-432f-b9e2-a687075d21f6",
   "metadata": {},
   "outputs": [],
   "source": []
  }
 ],
 "metadata": {
  "kernelspec": {
   "display_name": "Python 3 (ipykernel)",
   "language": "python",
   "name": "python3"
  },
  "language_info": {
   "codemirror_mode": {
    "name": "ipython",
    "version": 3
   },
   "file_extension": ".py",
   "mimetype": "text/x-python",
   "name": "python",
   "nbconvert_exporter": "python",
   "pygments_lexer": "ipython3",
   "version": "3.12.4"
  }
 },
 "nbformat": 4,
 "nbformat_minor": 5
}
