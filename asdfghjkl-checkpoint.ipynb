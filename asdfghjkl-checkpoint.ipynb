{
 "cells": [
  {
   "cell_type": "code",
   "execution_count": 21,
   "id": "a4f56605-0bf4-408e-b4ac-3ccc4c522a51",
   "metadata": {},
   "outputs": [
    {
     "data": {
      "text/plain": [
       "{'virat': 90,\n",
       " 'rohit': 100,\n",
       " 'rahul': 10,\n",
       " 'hardik': 110,\n",
       " 'jadeja': 90,\n",
       " 'siraz': 80,\n",
       " 'ashwin': 30}"
      ]
     },
     "execution_count": 21,
     "metadata": {},
     "output_type": "execute_result"
    }
   ],
   "source": [
    "scores= {\"virat\": 90,\"rohit\": 100,\"rahul\": 10,\"hardik\": 110,\"gill\": 50,\"jadeja\": 90,\"siraz\": 80,\"ashwin\": 30}\n",
    "scores.pop(\"gill\")\n",
    "scores\n",
    "\n"
   ]
  },
  {
   "cell_type": "code",
   "execution_count": 23,
   "id": "687cfab9-a9cf-4dea-b627-8903527782ec",
   "metadata": {},
   "outputs": [
    {
     "data": {
      "text/plain": [
       "{'A': 10, 'B': 10, 'c': 10, 'D': 10}"
      ]
     },
     "execution_count": 23,
     "metadata": {},
     "output_type": "execute_result"
    }
   ],
   "source": [
    "#use of fromkeys() to create a new dict\n",
    "list1= [\"A\",\"B\",\"c\",\"D\"]\n",
    "my_dict = dict.fromkeys(list1,10)\n",
    "my_dict\n"
   ]
  },
  {
   "cell_type": "code",
   "execution_count": null,
   "id": "9f7593e3-ebed-4263-a51f-ebedc1545808",
   "metadata": {},
   "outputs": [],
   "source": [
    "#use 'for' loop for hardik\n",
    "for k in scores.keys():\n",
    "if k==\"hardik\"\n",
    "\n",
    "\n"
   ]
  },
  {
   "cell_type": "code",
   "execution_count": 25,
   "id": "619a464e-ed41-4d8f-b4f3-ee532092320d",
   "metadata": {},
   "outputs": [
    {
     "name": "stdout",
     "output_type": "stream",
     "text": [
      "[90, 100, 10, 110, 90, 80, 30]\n",
      "Total Score:  510\n"
     ]
    }
   ],
   "source": [
    "scores_list = []\n",
    "for v in scores.values():\n",
    "     scores_list.append(v)\n",
    "print(scores_list)\n",
    "print(\"Total Score: \",sum(scores_list))\n",
    "\n",
    "\n",
    "\n"
   ]
  },
  {
   "cell_type": "code",
   "execution_count": 1,
   "id": "3043b246-9b8a-413c-97e3-66f6fef7eea0",
   "metadata": {},
   "outputs": [
    {
     "name": "stdout",
     "output_type": "stream",
     "text": [
      "{1, 2, 3, 4, 66, 8, 44}\n"
     ]
    }
   ],
   "source": [
    "#to create a set with curly braces\n",
    "s1={1,2,3,8,4,66,44}\n",
    "print(s1)\n"
   ]
  },
  {
   "cell_type": "code",
   "execution_count": 5,
   "id": "064ea7c4-b6e9-4480-a372-f7efbea3c908",
   "metadata": {},
   "outputs": [],
   "source": [
    "lst1=[1,5,2,7,44,4,74,88,9]"
   ]
  },
  {
   "cell_type": "code",
   "execution_count": 7,
   "id": "62383fbf-d562-40ec-bded-3c2b6031ab52",
   "metadata": {},
   "outputs": [
    {
     "name": "stdout",
     "output_type": "stream",
     "text": [
      "{1, 2, 4, 5, 7, 9, 74, 44, 88}\n",
      "<class 'set'>\n"
     ]
    }
   ],
   "source": [
    "s2=set(lst1)\n",
    "print(s2)\n",
    "print(type(s2))\n"
   ]
  },
  {
   "cell_type": "code",
   "execution_count": 9,
   "id": "a840a3bf-6c20-42dc-ae46-ccc93a3b16ad",
   "metadata": {},
   "outputs": [
    {
     "data": {
      "text/plain": [
       "['__and__',\n",
       " '__class__',\n",
       " '__class_getitem__',\n",
       " '__contains__',\n",
       " '__delattr__',\n",
       " '__dir__',\n",
       " '__doc__',\n",
       " '__eq__',\n",
       " '__format__',\n",
       " '__ge__',\n",
       " '__getattribute__',\n",
       " '__getstate__',\n",
       " '__gt__',\n",
       " '__hash__',\n",
       " '__iand__',\n",
       " '__init__',\n",
       " '__init_subclass__',\n",
       " '__ior__',\n",
       " '__isub__',\n",
       " '__iter__',\n",
       " '__ixor__',\n",
       " '__le__',\n",
       " '__len__',\n",
       " '__lt__',\n",
       " '__ne__',\n",
       " '__new__',\n",
       " '__or__',\n",
       " '__rand__',\n",
       " '__reduce__',\n",
       " '__reduce_ex__',\n",
       " '__repr__',\n",
       " '__ror__',\n",
       " '__rsub__',\n",
       " '__rxor__',\n",
       " '__setattr__',\n",
       " '__sizeof__',\n",
       " '__str__',\n",
       " '__sub__',\n",
       " '__subclasshook__',\n",
       " '__xor__',\n",
       " 'add',\n",
       " 'clear',\n",
       " 'copy',\n",
       " 'difference',\n",
       " 'difference_update',\n",
       " 'discard',\n",
       " 'intersection',\n",
       " 'intersection_update',\n",
       " 'isdisjoint',\n",
       " 'issubset',\n",
       " 'issuperset',\n",
       " 'pop',\n",
       " 'remove',\n",
       " 'symmetric_difference',\n",
       " 'symmetric_difference_update',\n",
       " 'union',\n",
       " 'update']"
      ]
     },
     "execution_count": 9,
     "metadata": {},
     "output_type": "execute_result"
    }
   ],
   "source": [
    "dir(set)"
   ]
  },
  {
   "cell_type": "code",
   "execution_count": 11,
   "id": "a04815fb-cfaf-46a7-9479-484ce9fd3565",
   "metadata": {},
   "outputs": [],
   "source": [
    "# Union operation using / operator\n",
    "s1={1,2,3,4}\n",
    "s2={3,4,5,6}\n"
   ]
  },
  {
   "cell_type": "code",
   "execution_count": 13,
   "id": "3200cc36-e450-404d-9f01-23095f0bb37d",
   "metadata": {},
   "outputs": [
    {
     "data": {
      "text/plain": [
       "{1, 2, 3, 4, 5, 6}"
      ]
     },
     "execution_count": 13,
     "metadata": {},
     "output_type": "execute_result"
    }
   ],
   "source": [
    "s1 | s2"
   ]
  },
  {
   "cell_type": "code",
   "execution_count": 25,
   "id": "133342a1-4a16-42eb-a5bb-9e887670183a",
   "metadata": {},
   "outputs": [
    {
     "data": {
      "text/plain": [
       "{1, 2, 3, 4}"
      ]
     },
     "execution_count": 25,
     "metadata": {},
     "output_type": "execute_result"
    }
   ],
   "source": [
    "# union using ^ operator\n",
    "s1 ^ s2"
   ]
  },
  {
   "cell_type": "code",
   "execution_count": 27,
   "id": "e9ede943-3238-408b-9149-49d7884ce433",
   "metadata": {},
   "outputs": [
    {
     "data": {
      "text/plain": [
       "{5, 6, 7}"
      ]
     },
     "execution_count": 27,
     "metadata": {},
     "output_type": "execute_result"
    }
   ],
   "source": [
    "# Intersection using & operator\n",
    "s1 & s2"
   ]
  },
  {
   "cell_type": "code",
   "execution_count": 23,
   "id": "6fcd6478-9271-4e06-872e-7f4fc904ffc3",
   "metadata": {},
   "outputs": [],
   "source": [
    "#difference of two sets\n",
    "s1={1,2,3,4,5,6,7}\n",
    "s2={5,6,7}\n",
    "\n"
   ]
  },
  {
   "cell_type": "code",
   "execution_count": 29,
   "id": "8f11da86-5d35-4cc3-a17f-0769a3c31011",
   "metadata": {},
   "outputs": [
    {
     "data": {
      "text/plain": [
       "{1, 2, 3, 4}"
      ]
     },
     "execution_count": 29,
     "metadata": {},
     "output_type": "execute_result"
    }
   ],
   "source": [
    "s1 - s2"
   ]
  },
  {
   "cell_type": "code",
   "execution_count": 31,
   "id": "72ea9284-2c1a-407b-86a4-3c2b40a619c7",
   "metadata": {},
   "outputs": [
    {
     "data": {
      "text/plain": [
       "set()"
      ]
     },
     "execution_count": 31,
     "metadata": {},
     "output_type": "execute_result"
    }
   ],
   "source": [
    "s2 - s1"
   ]
  },
  {
   "cell_type": "code",
   "execution_count": 33,
   "id": "12225c8f-da71-4df1-ae00-bb0777d3719a",
   "metadata": {},
   "outputs": [],
   "source": [
    "# symmetric difference\n",
    "s1={1,2,3,4,5}\n",
    "s2={4,5,6,7,8}"
   ]
  },
  {
   "cell_type": "code",
   "execution_count": 35,
   "id": "024d1a7e-455c-43ca-ba22-3e005843df6e",
   "metadata": {},
   "outputs": [
    {
     "data": {
      "text/plain": [
       "{1, 2, 3, 6, 7, 8}"
      ]
     },
     "execution_count": 35,
     "metadata": {},
     "output_type": "execute_result"
    }
   ],
   "source": [
    "s1.symmetric_difference(s2)"
   ]
  },
  {
   "cell_type": "code",
   "execution_count": 43,
   "id": "10312b3a-15f5-4214-889b-85b67bb782ac",
   "metadata": {},
   "outputs": [],
   "source": [
    "s1={1,2,3,4,5}\n",
    "s2={1,2,3}"
   ]
  },
  {
   "cell_type": "code",
   "execution_count": 47,
   "id": "53d96392-66e5-44db-ae66-88eac163f5ca",
   "metadata": {},
   "outputs": [
    {
     "data": {
      "text/plain": [
       "True"
      ]
     },
     "execution_count": 47,
     "metadata": {},
     "output_type": "execute_result"
    }
   ],
   "source": [
    "s2.issubset(s1)"
   ]
  },
  {
   "cell_type": "code",
   "execution_count": 45,
   "id": "2b5faa71-3f5c-49c9-ba07-1ce4f37be1b6",
   "metadata": {},
   "outputs": [
    {
     "data": {
      "text/plain": [
       "False"
      ]
     },
     "execution_count": 45,
     "metadata": {},
     "output_type": "execute_result"
    }
   ],
   "source": [
    "s2.issuperset(s1)"
   ]
  },
  {
   "cell_type": "code",
   "execution_count": 51,
   "id": "44179c71-482f-44ff-bdb5-44dc057fb957",
   "metadata": {},
   "outputs": [
    {
     "name": "stdout",
     "output_type": "stream",
     "text": [
      "Welcome to aiml class\n",
      "WE started with python\n",
      "This is an awesome class\n"
     ]
    }
   ],
   "source": [
    "# str with double,single,triple quetus...\n",
    "str1=\"Welcome to aiml class\"\n",
    "print(str1)\n",
    "str2='WE started with python'\n",
    "print(str2)\n",
    "str3='''This is an awesome class'''\n",
    "print(str3)"
   ]
  },
  {
   "cell_type": "code",
   "execution_count": 57,
   "id": "46ea7eee-00b6-40dc-b154-cf4b7fc92352",
   "metadata": {},
   "outputs": [
    {
     "name": "stdout",
     "output_type": "stream",
     "text": [
      "Welcome to aiml class\n"
     ]
    },
    {
     "data": {
      "text/plain": [
       "'me to'"
      ]
     },
     "execution_count": 57,
     "metadata": {},
     "output_type": "execute_result"
    }
   ],
   "source": [
    "# slicing in strings\n",
    "print(str1)\n",
    "str1[5:10]"
   ]
  },
  {
   "cell_type": "code",
   "execution_count": 59,
   "id": "125118a2-a2ff-4d06-97e6-dd0ac8feeac6",
   "metadata": {},
   "outputs": [
    {
     "name": "stdout",
     "output_type": "stream",
     "text": [
      "WE started with python\n"
     ]
    },
    {
     "data": {
      "text/plain": [
       "['WE', 'started', 'with', 'python']"
      ]
     },
     "execution_count": 59,
     "metadata": {},
     "output_type": "execute_result"
    }
   ],
   "source": [
    "# Using of split()\n",
    "print(str2)\n",
    "str2.split()"
   ]
  },
  {
   "cell_type": "code",
   "execution_count": 61,
   "id": "db648f36-29cc-45f7-ac54-b568d2f07462",
   "metadata": {},
   "outputs": [
    {
     "data": {
      "text/plain": [
       "'The product is awesome;Great Service'"
      ]
     },
     "execution_count": 61,
     "metadata": {},
     "output_type": "execute_result"
    }
   ],
   "source": [
    "# using of join() method\n",
    "reviews=[\"The product is awesome\",\"Great Service\"]\n",
    "joined_string = ';'.join(reviews)\n",
    "joined_string \n"
   ]
  },
  {
   "cell_type": "code",
   "execution_count": 63,
   "id": "8fdcb6ad-b100-4769-baa2-11f06179aa72",
   "metadata": {},
   "outputs": [
    {
     "data": {
      "text/plain": [
       "'    Hello,How are you?    '"
      ]
     },
     "execution_count": 63,
     "metadata": {},
     "output_type": "execute_result"
    }
   ],
   "source": [
    "str5=\"    Hello,How are you?    \"\n",
    "str5\n"
   ]
  },
  {
   "cell_type": "code",
   "execution_count": 65,
   "id": "81505c78-a3d4-4739-8146-4e388ed8db3c",
   "metadata": {},
   "outputs": [
    {
     "data": {
      "text/plain": [
       "'    hello,how are you?    '"
      ]
     },
     "execution_count": 65,
     "metadata": {},
     "output_type": "execute_result"
    }
   ],
   "source": [
    "str5=\"    Hello,How are you?    \"\n",
    "str5.lower()"
   ]
  },
  {
   "cell_type": "code",
   "execution_count": 67,
   "id": "e76f7517-e804-4f88-81ee-24879bc601fc",
   "metadata": {},
   "outputs": [
    {
     "data": {
      "text/plain": [
       "'    HELLO,HOW ARE YOU?    '"
      ]
     },
     "execution_count": 67,
     "metadata": {},
     "output_type": "execute_result"
    }
   ],
   "source": [
    "str5=\"    Hello,How are you?    \"\n",
    "str5.upper()"
   ]
  },
  {
   "cell_type": "code",
   "execution_count": 69,
   "id": "909baf7d-a106-440b-b483-24024a35dffb",
   "metadata": {},
   "outputs": [],
   "source": [
    "# Example dictionary for product sales analysis\n",
    "sales_data = {\n",
    "    'product_id': [101, 102, 103, 104, 105],\n",
    "    'product_name': ['Laptop', 'Headphones', 'Smartphone', 'Tablet', 'Keyboard'],\n",
    "    'category': ['Electronics', 'Accessories', 'Electronics', 'Electronics', 'Accessories'],\n",
    "    'pricerange': ['High', 'Medium', 'High', 'Medium', 'Low'],\n",
    "    'stockavailable': [50, 150, 75, 40, 200],\n",
    "}\n",
    "\n"
   ]
  },
  {
   "cell_type": "code",
   "execution_count": 71,
   "id": "1b62fa2d-2802-4108-9e6e-a207d64b4c76",
   "metadata": {},
   "outputs": [
    {
     "name": "stdout",
     "output_type": "stream",
     "text": [
      "product_id {101, 102, 103, 104, 105}\n",
      "/n\n",
      "product_name {'Headphones', 'Laptop', 'Tablet', 'Keyboard', 'Smartphone'}\n",
      "/n\n",
      "category {'Electronics', 'Accessories'}\n",
      "/n\n",
      "pricerange {'Medium', 'High', 'Low'}\n",
      "/n\n",
      "stockavailable {40, 200, 75, 50, 150}\n",
      "/n\n"
     ]
    }
   ],
   "source": [
    "for k,v in sales_data.items():\n",
    "    print(k,set(v))\n",
    "    print('/n')"
   ]
  },
  {
   "cell_type": "code",
   "execution_count": null,
   "id": "4c264099-e1d8-45f9-be6a-56ece922201e",
   "metadata": {},
   "outputs": [],
   "source": [
    "#product and review analysis"
   ]
  }
 ],
 "metadata": {
  "kernelspec": {
   "display_name": "Python 3 (ipykernel)",
   "language": "python",
   "name": "python3"
  },
  "language_info": {
   "codemirror_mode": {
    "name": "ipython",
    "version": 3
   },
   "file_extension": ".py",
   "mimetype": "text/x-python",
   "name": "python",
   "nbconvert_exporter": "python",
   "pygments_lexer": "ipython3",
   "version": "3.12.4"
  }
 },
 "nbformat": 4,
 "nbformat_minor": 5
}
