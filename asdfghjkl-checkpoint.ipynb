{
 "cells": [
  {
   "cell_type": "code",
   "execution_count": 21,
   "id": "a4f56605-0bf4-408e-b4ac-3ccc4c522a51",
   "metadata": {},
   "outputs": [
    {
     "data": {
      "text/plain": [
       "{'virat': 90,\n",
       " 'rohit': 100,\n",
       " 'rahul': 10,\n",
       " 'hardik': 110,\n",
       " 'jadeja': 90,\n",
       " 'siraz': 80,\n",
       " 'ashwin': 30}"
      ]
     },
     "execution_count": 21,
     "metadata": {},
     "output_type": "execute_result"
    }
   ],
   "source": [
    "scores= {\"virat\": 90,\"rohit\": 100,\"rahul\": 10,\"hardik\": 110,\"gill\": 50,\"jadeja\": 90,\"siraz\": 80,\"ashwin\": 30}\n",
    "scores.pop(\"gill\")\n",
    "scores\n",
    "\n"
   ]
  },
  {
   "cell_type": "code",
   "execution_count": 23,
   "id": "687cfab9-a9cf-4dea-b627-8903527782ec",
   "metadata": {},
   "outputs": [
    {
     "data": {
      "text/plain": [
       "{'A': 10, 'B': 10, 'c': 10, 'D': 10}"
      ]
     },
     "execution_count": 23,
     "metadata": {},
     "output_type": "execute_result"
    }
   ],
   "source": [
    "#use of fromkeys() to create a new dict\n",
    "list1= [\"A\",\"B\",\"c\",\"D\"]\n",
    "my_dict = dict.fromkeys(list1,10)\n",
    "my_dict\n"
   ]
  },
  {
   "cell_type": "code",
   "execution_count": null,
   "id": "9f7593e3-ebed-4263-a51f-ebedc1545808",
   "metadata": {},
   "outputs": [],
   "source": [
    "#use 'for' loop for hardik\n",
    "for k in scores.keys():\n",
    "if k==\"hardik\"\n",
    "\n",
    "\n"
   ]
  },
  {
   "cell_type": "code",
   "execution_count": 25,
   "id": "619a464e-ed41-4d8f-b4f3-ee532092320d",
   "metadata": {},
   "outputs": [
    {
     "name": "stdout",
     "output_type": "stream",
     "text": [
      "[90, 100, 10, 110, 90, 80, 30]\n",
      "Total Score:  510\n"
     ]
    }
   ],
   "source": [
    "scores_list = []\n",
    "for v in scores.values():\n",
    "     scores_list.append(v)\n",
    "print(scores_list)\n",
    "print(\"Total Score: \",sum(scores_list))\n",
    "\n",
    "\n",
    "\n"
   ]
  },
  {
   "cell_type": "code",
   "execution_count": null,
   "id": "3043b246-9b8a-413c-97e3-66f6fef7eea0",
   "metadata": {},
   "outputs": [],
   "source": []
  }
 ],
 "metadata": {
  "kernelspec": {
   "display_name": "Python 3 (ipykernel)",
   "language": "python",
   "name": "python3"
  },
  "language_info": {
   "codemirror_mode": {
    "name": "ipython",
    "version": 3
   },
   "file_extension": ".py",
   "mimetype": "text/x-python",
   "name": "python",
   "nbconvert_exporter": "python",
   "pygments_lexer": "ipython3",
   "version": "3.12.4"
  }
 },
 "nbformat": 4,
 "nbformat_minor": 5
}
