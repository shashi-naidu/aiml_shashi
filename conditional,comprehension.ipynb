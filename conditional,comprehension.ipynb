{
 "cells": [
  {
   "cell_type": "code",
   "execution_count": 11,
   "id": "227f6399-fec8-4040-92a9-7f0eeff8b5ac",
   "metadata": {},
   "outputs": [
    {
     "name": "stdout",
     "output_type": "stream",
     "text": [
      "even\n"
     ]
    }
   ],
   "source": [
    "#print even else odd\n",
    "num=6\n",
    "if num %2 == 0:\n",
    "     print(\"even\")\n",
    "else:\n",
    "    print(\"odd\")"
   ]
  },
  {
   "cell_type": "code",
   "execution_count": 9,
   "id": "239f50e1-bd14-449b-b801-567a05d21a8f",
   "metadata": {},
   "outputs": [
    {
     "name": "stdout",
     "output_type": "stream",
     "text": [
      "even\n"
     ]
    }
   ],
   "source": [
    "#print even in a single linr of code\n",
    "print(\"even\") if num%2==0 else print(\"odd\")"
   ]
  },
  {
   "cell_type": "code",
   "execution_count": 23,
   "id": "e18483b9-dc7f-43a5-a290-026a33d7ef71",
   "metadata": {},
   "outputs": [
    {
     "name": "stdout",
     "output_type": "stream",
     "text": [
      "Zero\n"
     ]
    }
   ],
   "source": [
    "#nested if-else in one line\n",
    "num=0\n",
    "result =\"positive\" if num > 0 else (\"negative\" if num < 0 else \"Zero\")\n",
    "print(result) "
   ]
  },
  {
   "cell_type": "code",
   "execution_count": 27,
   "id": "cc075717-980f-4a25-b908-ddad7f6546c6",
   "metadata": {},
   "outputs": [
    {
     "name": "stdout",
     "output_type": "stream",
     "text": [
      "[1, 9, 2, 10, 56, 89]\n"
     ]
    }
   ],
   "source": [
    "#use list  comprehenstion\n",
    "l=[1,9,2,10,56,89]\n",
    "[2*x for x in l]\n",
    "print(l)"
   ]
  },
  {
   "cell_type": "code",
   "execution_count": 39,
   "id": "be69a29d-2b56-42ac-aa90-63bf2aefb351",
   "metadata": {},
   "outputs": [
    {
     "data": {
      "text/plain": [
       "[2, 10, 56]"
      ]
     },
     "execution_count": 39,
     "metadata": {},
     "output_type": "execute_result"
    }
   ],
   "source": [
    "#list comprehension with a condition\n",
    "#print even numbers\n",
    "l=[1,9,2,10,56,89]\n",
    "[x for x in l if x%2 == 0]\n"
   ]
  },
  {
   "cell_type": "code",
   "execution_count": 41,
   "id": "636df992-9bd0-40b1-8b84-576a49f647d7",
   "metadata": {},
   "outputs": [
    {
     "data": {
      "text/plain": [
       "[1, 9, 89]"
      ]
     },
     "execution_count": 41,
     "metadata": {},
     "output_type": "execute_result"
    }
   ],
   "source": [
    "#print odd numbers\n",
    "l=[1,9,2,10,56,89]\n",
    "[x for x in l if x%2 != 0]"
   ]
  },
  {
   "cell_type": "code",
   "execution_count": 43,
   "id": "b09150a4-ac71-48b0-b396-55e5f5c32f16",
   "metadata": {},
   "outputs": [
    {
     "data": {
      "text/plain": [
       "27.833333333333332"
      ]
     },
     "execution_count": 43,
     "metadata": {},
     "output_type": "execute_result"
    }
   ],
   "source": [
    "# print the average value of the list of number of the list comperhention\n",
    "l=[1,9,2,10,56,89]\n",
    "sum([x for x in l])/len(l)"
   ]
  },
  {
   "cell_type": "code",
   "execution_count": 57,
   "id": "8cbfadcd-28b1-4b18-a7c4-4c645e0ee5de",
   "metadata": {},
   "outputs": [
    {
     "data": {
      "text/plain": [
       "{'Ram': [70, 71, 98, 100], 'John': [50, 98, 67, 65]}"
      ]
     },
     "execution_count": 57,
     "metadata": {},
     "output_type": "execute_result"
    }
   ],
   "source": [
    "# Dictionary comprehension\n",
    "d1={'Ram':[70,71,98,100],'John':[50,98,67,65]}\n",
    "d1"
   ]
  },
  {
   "cell_type": "code",
   "execution_count": 55,
   "id": "e51d9e3a-1531-46cc-b238-340db4ff9ab6",
   "metadata": {},
   "outputs": [
    {
     "data": {
      "text/plain": [
       "{'Ram': 84.75, 'John': 70.0}"
      ]
     },
     "execution_count": 55,
     "metadata": {},
     "output_type": "execute_result"
    }
   ],
   "source": [
    "# Dictionary comprehension\n",
    "d1={'Ram':[70,71,98,100],'John':[50,98,67,65]}\n",
    "{k:sum(v)/len(v) for k,v in d1.items()}"
   ]
  },
  {
   "cell_type": "code",
   "execution_count": null,
   "id": "79be6ebf-d952-43da-90e9-0545e2f877d0",
   "metadata": {},
   "outputs": [],
   "source": []
  }
 ],
 "metadata": {
  "kernelspec": {
   "display_name": "Python 3 (ipykernel)",
   "language": "python",
   "name": "python3"
  },
  "language_info": {
   "codemirror_mode": {
    "name": "ipython",
    "version": 3
   },
   "file_extension": ".py",
   "mimetype": "text/x-python",
   "name": "python",
   "nbconvert_exporter": "python",
   "pygments_lexer": "ipython3",
   "version": "3.12.4"
  }
 },
 "nbformat": 4,
 "nbformat_minor": 5
}
